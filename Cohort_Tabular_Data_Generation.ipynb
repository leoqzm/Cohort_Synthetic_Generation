{
 "cells": [
  {
   "cell_type": "markdown",
   "id": "c3217a15",
   "metadata": {
    "id": "c3217a15"
   },
   "source": [
    "# Synthetic Tabular Data Generation by NeMo GPT\n",
    "\n",
    "Big data, new algorithms and fast computers are the 3 main factors that make the modern AI revolution possible. Data poses a big challenge for enterprises for various reasons: difficulty  of data labeling, strong data governance, limited data availability etc. Synthetic data generation is proposed as a solution to the data problem as it directly addresses the data challenges. Two popular generative models like  Variational Auto-Encoder [VAE](https://en.wikipedia.org/wiki/Variational_autoencoder) and Generative Adversarial Network [GAN](https://en.wikipedia.org/wiki/Generative_adversarial_network) models have achieved some success in the past. However, a good generative model should generate the data following the same distribution as the training data. There are some known flaws with the VAE and GAN models for synthetic data generation. Most prominently, the [mode collapse problem](https://developers.google.com/machine-learning/gan/problems) in the GAN model causes the generated data to miss some modes in the training data distribution. While the VAE has the difficulty of generating sharp data points due to the non-autoregressive loss.\n",
    "\n",
    "Recently, [Transformer models](https://arxiv.org/abs/1706.03762) achieved huge success in the natural language processing domain.  The self-attention encoding and decoding architecture of the transformer model is proven to be accurate in modeling the data distribution and scalable to large datasets. [OpenAI’s GPT3](https://openai.com/blog/gpt-3-apps/) uses the decoder part of the transformer model and has 175B parameters. It has been widely used across varying categories and industries, from productivity and education to creativity and games. GPT3 turns out to be a superior generative model. In this tutorial, we are interested in exploring the ideas of applying the GPT model for synthetic data generation. \n",
    "\n",
    "Unlike typical neural networks, GPT models are usually large in size. It is challenging to fit a large GPT model into a single GPU. Luckily, [NeMo](https://github.com/NVIDIA/NeMo) is an open source tool that is capable of efficiently training very large (hundreds of billions of parameters) language models with both model and data parallelism.  It is easy to use too. In the following sections, we will show how to train a GPT model step by step to generate synthetic credit card data.\n"
   ]
  },
  {
   "cell_type": "code",
   "execution_count": 1,
   "id": "vQ5r2K67fGiz",
   "metadata": {
    "id": "vQ5r2K67fGiz"
   },
   "outputs": [],
   "source": [
    "BRANCH = 'main'"
   ]
  },
  {
   "cell_type": "markdown",
   "id": "79154a9e",
   "metadata": {
    "id": "79154a9e"
   },
   "source": [
    "# 1.Data Cleaning and Formatting\n",
    "\n",
    "First let's import the necessary Python libraries for the tutorial."
   ]
  },
  {
   "cell_type": "code",
   "execution_count": 2,
   "id": "c4a08689",
   "metadata": {
    "id": "c4a08689"
   },
   "outputs": [
    {
     "name": "stderr",
     "output_type": "stream",
     "text": [
      "/opt/conda/envs/nemo/lib/python3.9/site-packages/apex/pyprof/__init__.py:5: FutureWarning: pyprof will be removed by the end of June, 2022\n",
      "  warnings.warn(\"pyprof will be removed by the end of June, 2022\", FutureWarning)\n"
     ]
    }
   ],
   "source": [
    "import pandas as pd\n",
    "from nemo.collections.common.tokenizers.column_coder import ColumnCodes\n",
    "from omegaconf import OmegaConf\n",
    "import pickle\n",
    "from pandas.api.types import is_string_dtype\n",
    "from nemo.collections.common.tokenizers.tabular_tokenizer import TabularTokenizer\n",
    "import json\n",
    "import wget\n",
    "import requests\n",
    "import json\n",
    "import functools\n",
    "from multiprocessing import Pool"
   ]
  },
  {
   "cell_type": "code",
   "execution_count": 3,
   "id": "abaa1f80",
   "metadata": {
    "colab": {
     "base_uri": "https://localhost:8080/"
    },
    "id": "abaa1f80",
    "outputId": "6f86d790-381e-43c1-ea63-2e3c65dae9b1"
   },
   "outputs": [
    {
     "name": "stdout",
     "output_type": "stream",
     "text": [
      "./Cohort_data/HT_Pros_sdoh_trimed.csv ./Cohort_data/checkpoints ./Cohort_data/HT_Pros_coder.pickle ./Cohort_data/HT_Pros_card.jn\n"
     ]
    }
   ],
   "source": [
    "BRANCH = 'main'\n",
    "DATA_PATH='./Cohort_data'\n",
    "TRANSACTIONS=DATA_PATH+'/HT_Pros_sdoh_trimed.csv'\n",
    "#CHECKPOINTS='/chk_points'\n",
    "CHECKPOINTS=DATA_PATH+'/checkpoints'\n",
    "CC_OUTPUT_P=DATA_PATH+'/HT_Pros_coder.pickle'\n",
    "CC_OUTPUT_J=DATA_PATH+'/HT_Pros_card.jn'\n",
    "print (TRANSACTIONS, CHECKPOINTS, CC_OUTPUT_P, CC_OUTPUT_J)"
   ]
  },
  {
   "cell_type": "markdown",
   "id": "7e0bbc89",
   "metadata": {
    "id": "7e0bbc89"
   },
   "source": [
    "After decompressing the tar file,  we load the dataset into pandas dataframe and examine the top few rows."
   ]
  },
  {
   "cell_type": "code",
   "execution_count": 4,
   "id": "8aa48317",
   "metadata": {
    "colab": {
     "base_uri": "https://localhost:8080/",
     "height": 374
    },
    "id": "8aa48317",
    "outputId": "ad77c328-14ad-414c-8d14-3b29e0dc4b56"
   },
   "outputs": [
    {
     "data": {
      "text/html": [
       "<div>\n",
       "<style scoped>\n",
       "    .dataframe tbody tr th:only-of-type {\n",
       "        vertical-align: middle;\n",
       "    }\n",
       "\n",
       "    .dataframe tbody tr th {\n",
       "        vertical-align: top;\n",
       "    }\n",
       "\n",
       "    .dataframe thead th {\n",
       "        text-align: right;\n",
       "    }\n",
       "</style>\n",
       "<table border=\"1\" class=\"dataframe\">\n",
       "  <thead>\n",
       "    <tr style=\"text-align: right;\">\n",
       "      <th></th>\n",
       "      <th>Unnamed: 0</th>\n",
       "      <th>patient_id</th>\n",
       "      <th>admityear</th>\n",
       "      <th>admitmonth</th>\n",
       "      <th>admitday</th>\n",
       "      <th>dischyear</th>\n",
       "      <th>dischmonth</th>\n",
       "      <th>dischday</th>\n",
       "      <th>chartyear</th>\n",
       "      <th>chartmonth</th>\n",
       "      <th>...</th>\n",
       "      <th>clm_pymt_amt_rm_9</th>\n",
       "      <th>snapspth12</th>\n",
       "      <th>hydroquinone</th>\n",
       "      <th>cera_30Alzheimer</th>\n",
       "      <th>vinylidene_chloride</th>\n",
       "      <th>flag_ratio_Hematocrit_normal</th>\n",
       "      <th>mp_limeng</th>\n",
       "      <th>acetonitrile</th>\n",
       "      <th>pentachlorophenol</th>\n",
       "      <th>drugs_cnt_uniq</th>\n",
       "    </tr>\n",
       "  </thead>\n",
       "  <tbody>\n",
       "    <tr>\n",
       "      <th>0</th>\n",
       "      <td>0</td>\n",
       "      <td>0001694E47AE68F9</td>\n",
       "      <td>2009</td>\n",
       "      <td>3</td>\n",
       "      <td>26</td>\n",
       "      <td>2009</td>\n",
       "      <td>3</td>\n",
       "      <td>26</td>\n",
       "      <td>2009</td>\n",
       "      <td>3</td>\n",
       "      <td>...</td>\n",
       "      <td>0.0</td>\n",
       "      <td>0.591384</td>\n",
       "      <td>0.0001</td>\n",
       "      <td>0.0</td>\n",
       "      <td>0.001567</td>\n",
       "      <td>0.0</td>\n",
       "      <td>0.3</td>\n",
       "      <td>0.323546</td>\n",
       "      <td>0.0</td>\n",
       "      <td>0.0</td>\n",
       "    </tr>\n",
       "    <tr>\n",
       "      <th>1</th>\n",
       "      <td>1</td>\n",
       "      <td>0001694E47AE68F9</td>\n",
       "      <td>2009</td>\n",
       "      <td>8</td>\n",
       "      <td>7</td>\n",
       "      <td>2009</td>\n",
       "      <td>8</td>\n",
       "      <td>7</td>\n",
       "      <td>2009</td>\n",
       "      <td>8</td>\n",
       "      <td>...</td>\n",
       "      <td>0.0</td>\n",
       "      <td>0.591384</td>\n",
       "      <td>0.0001</td>\n",
       "      <td>0.0</td>\n",
       "      <td>0.001567</td>\n",
       "      <td>0.0</td>\n",
       "      <td>0.3</td>\n",
       "      <td>0.323546</td>\n",
       "      <td>0.0</td>\n",
       "      <td>0.0</td>\n",
       "    </tr>\n",
       "    <tr>\n",
       "      <th>2</th>\n",
       "      <td>2</td>\n",
       "      <td>0001694E47AE68F9</td>\n",
       "      <td>2009</td>\n",
       "      <td>8</td>\n",
       "      <td>20</td>\n",
       "      <td>2009</td>\n",
       "      <td>8</td>\n",
       "      <td>20</td>\n",
       "      <td>2009</td>\n",
       "      <td>8</td>\n",
       "      <td>...</td>\n",
       "      <td>0.0</td>\n",
       "      <td>0.591384</td>\n",
       "      <td>0.0001</td>\n",
       "      <td>0.0</td>\n",
       "      <td>0.001567</td>\n",
       "      <td>0.0</td>\n",
       "      <td>0.3</td>\n",
       "      <td>0.323546</td>\n",
       "      <td>0.0</td>\n",
       "      <td>0.0</td>\n",
       "    </tr>\n",
       "    <tr>\n",
       "      <th>3</th>\n",
       "      <td>3</td>\n",
       "      <td>0001694E47AE68F9</td>\n",
       "      <td>2009</td>\n",
       "      <td>9</td>\n",
       "      <td>13</td>\n",
       "      <td>2009</td>\n",
       "      <td>9</td>\n",
       "      <td>13</td>\n",
       "      <td>2009</td>\n",
       "      <td>9</td>\n",
       "      <td>...</td>\n",
       "      <td>0.0</td>\n",
       "      <td>0.591384</td>\n",
       "      <td>0.0001</td>\n",
       "      <td>0.0</td>\n",
       "      <td>0.001567</td>\n",
       "      <td>0.0</td>\n",
       "      <td>0.3</td>\n",
       "      <td>0.323546</td>\n",
       "      <td>0.0</td>\n",
       "      <td>0.0</td>\n",
       "    </tr>\n",
       "    <tr>\n",
       "      <th>4</th>\n",
       "      <td>4</td>\n",
       "      <td>0001694E47AE68F9</td>\n",
       "      <td>2009</td>\n",
       "      <td>11</td>\n",
       "      <td>24</td>\n",
       "      <td>2009</td>\n",
       "      <td>11</td>\n",
       "      <td>24</td>\n",
       "      <td>2009</td>\n",
       "      <td>11</td>\n",
       "      <td>...</td>\n",
       "      <td>0.0</td>\n",
       "      <td>0.591384</td>\n",
       "      <td>0.0001</td>\n",
       "      <td>0.0</td>\n",
       "      <td>0.001567</td>\n",
       "      <td>0.0</td>\n",
       "      <td>0.3</td>\n",
       "      <td>0.323546</td>\n",
       "      <td>0.0</td>\n",
       "      <td>0.0</td>\n",
       "    </tr>\n",
       "  </tbody>\n",
       "</table>\n",
       "<p>5 rows × 111 columns</p>\n",
       "</div>"
      ],
      "text/plain": [
       "   Unnamed: 0        patient_id  admityear  admitmonth  admitday  dischyear  \\\n",
       "0           0  0001694E47AE68F9       2009           3        26       2009   \n",
       "1           1  0001694E47AE68F9       2009           8         7       2009   \n",
       "2           2  0001694E47AE68F9       2009           8        20       2009   \n",
       "3           3  0001694E47AE68F9       2009           9        13       2009   \n",
       "4           4  0001694E47AE68F9       2009          11        24       2009   \n",
       "\n",
       "   dischmonth  dischday  chartyear  chartmonth  ...  clm_pymt_amt_rm_9  \\\n",
       "0           3        26       2009           3  ...                0.0   \n",
       "1           8         7       2009           8  ...                0.0   \n",
       "2           8        20       2009           8  ...                0.0   \n",
       "3           9        13       2009           9  ...                0.0   \n",
       "4          11        24       2009          11  ...                0.0   \n",
       "\n",
       "   snapspth12  hydroquinone  cera_30Alzheimer  vinylidene_chloride  \\\n",
       "0    0.591384        0.0001               0.0             0.001567   \n",
       "1    0.591384        0.0001               0.0             0.001567   \n",
       "2    0.591384        0.0001               0.0             0.001567   \n",
       "3    0.591384        0.0001               0.0             0.001567   \n",
       "4    0.591384        0.0001               0.0             0.001567   \n",
       "\n",
       "   flag_ratio_Hematocrit_normal  mp_limeng  acetonitrile  pentachlorophenol  \\\n",
       "0                           0.0        0.3      0.323546                0.0   \n",
       "1                           0.0        0.3      0.323546                0.0   \n",
       "2                           0.0        0.3      0.323546                0.0   \n",
       "3                           0.0        0.3      0.323546                0.0   \n",
       "4                           0.0        0.3      0.323546                0.0   \n",
       "\n",
       "  drugs_cnt_uniq  \n",
       "0            0.0  \n",
       "1            0.0  \n",
       "2            0.0  \n",
       "3            0.0  \n",
       "4            0.0  \n",
       "\n",
       "[5 rows x 111 columns]"
      ]
     },
     "execution_count": 4,
     "metadata": {},
     "output_type": "execute_result"
    }
   ],
   "source": [
    "df = pd.read_csv(TRANSACTIONS)\n",
    "df.head()"
   ]
  },
  {
   "cell_type": "code",
   "execution_count": 5,
   "id": "be5af8c3-8114-4d99-85e7-ee431337c789",
   "metadata": {},
   "outputs": [],
   "source": [
    "del df['Unnamed: 0']"
   ]
  },
  {
   "cell_type": "markdown",
   "id": "1ff1d46f",
   "metadata": {
    "id": "1ff1d46f"
   },
   "source": [
    "pd.options.display.max_rows = 4000column_type = df1.dtypesIn the following data cleaning step, we fix the `Amount` column that is not a number, convert the `Time` column into `hour` and `minutes` and replace the `,` character with space so we can use `,` as delimiter."
   ]
  },
  {
   "cell_type": "code",
   "execution_count": 14,
   "id": "e55a19a1-b4f6-4870-8a7a-54d1e6e6abe4",
   "metadata": {},
   "outputs": [],
   "source": []
  },
  {
   "cell_type": "code",
   "execution_count": 7,
   "id": "d8213377-e56d-43ce-972d-d29b49670e78",
   "metadata": {},
   "outputs": [],
   "source": [
    "df['cera_30Hypertension'] = df['cera_30Hypertension'].astype(\"int\")\n",
    "df['cera30_sum'] = df['cera30_sum'].astype(\"int\")\n",
    "df['cera_30Alzheimer'] = df['cera_30Alzheimer'].astype(\"int\")\n",
    "df['cera_30AtrialFib'] = df['cera_30AtrialFib'].astype(\"int\")\n",
    "\n",
    "df['cera_30Covid'] = df['cera_30Covid'].astype(\"int\") \n",
    "df['cera_30Depression']=df['cera_30Depression'].astype(\"int\")\n",
    "df['cera_30Diabetes']=df['cera_30Diabetes'].astype(\"int\")\n",
    "df['cera_30Alzheimer']=df['cera_30Alzheimer'].astype(\"int\")\n",
    "df['cera_30Pneumonia']=df['cera_30Pneumonia'].astype(\"int\")\n",
    "\n",
    "df['drugs_cnt_uniq'] = df['drugs_cnt_uniq'].astype('int')\n",
    "df['resp_open'] = df['resp_open'].astype('int')\n",
    "df['Trazodone'] = df['Trazodone'].astype('int')\n",
    "                                                       "
   ]
  },
  {
   "cell_type": "code",
   "execution_count": 8,
   "id": "eb3ea538-bb9c-4f9e-b44f-b08f1fe05092",
   "metadata": {},
   "outputs": [
    {
     "data": {
      "text/plain": [
       "patient_id                       object\n",
       "admityear                         int64\n",
       "admitmonth                        int64\n",
       "admitday                          int64\n",
       "dischyear                         int64\n",
       "                                 ...   \n",
       "flag_ratio_Hematocrit_normal    float64\n",
       "mp_limeng                       float64\n",
       "acetonitrile                    float64\n",
       "pentachlorophenol               float64\n",
       "drugs_cnt_uniq                    int64\n",
       "Length: 110, dtype: object"
      ]
     },
     "execution_count": 8,
     "metadata": {},
     "output_type": "execute_result"
    }
   ],
   "source": [
    "column_type = df.dtypes\n",
    "column_type"
   ]
  },
  {
   "cell_type": "code",
   "execution_count": 9,
   "id": "e73b5b7b-7a76-4cd1-b1c8-e9a73d590445",
   "metadata": {},
   "outputs": [
    {
     "data": {
      "text/plain": [
       "dtype('int64')"
      ]
     },
     "execution_count": 9,
     "metadata": {},
     "output_type": "execute_result"
    }
   ],
   "source": [
    "column_type['cera_30Hypertension']"
   ]
  },
  {
   "cell_type": "code",
   "execution_count": 10,
   "id": "612ebc77-30c1-4f44-90e0-209d174e9392",
   "metadata": {},
   "outputs": [],
   "source": [
    "category_columns = ['location','county','st_abbr','state']\n",
    "for col in category_columns:\n",
    "    if is_string_dtype(df[col].dtype):\n",
    "        df[col] = df[col].str.replace(',', ' ')"
   ]
  },
  {
   "cell_type": "code",
   "execution_count": 11,
   "id": "63855cbd-49a2-4a02-9dab-c6783030fc62",
   "metadata": {},
   "outputs": [],
   "source": [
    "columns = column_type[1:]\n"
   ]
  },
  {
   "cell_type": "code",
   "execution_count": 12,
   "id": "7e7a6e52-f65d-488e-8d0a-c8e269e02dd5",
   "metadata": {},
   "outputs": [],
   "source": [
    "\n",
    "float_columns = columns[(columns == \"float64\")].keys().tolist()\n",
    "\n",
    "category_columns = columns[(columns != \"int64\") & (columns != \"float64\")].keys().tolist()\n",
    "\n",
    "integer_columns = columns[(columns == \"int64\")].keys().tolist()"
   ]
  },
  {
   "cell_type": "code",
   "execution_count": 13,
   "id": "6686d3be-3854-419c-aa75-517d6cd35784",
   "metadata": {},
   "outputs": [
    {
     "data": {
      "text/plain": [
       "['colvalue_agg_Glucose_normal',\n",
       " 'mp_munit',\n",
       " 'o_cresol',\n",
       " 'acenaphthene',\n",
       " 'spo2_amin',\n",
       " 'benzoepyrene',\n",
       " 'cum_clm_pymt_amt_rm_10',\n",
       " 'lalowia1_20',\n",
       " 'diethylene_glycol_monobutyl_ether',\n",
       " 'carbon_tetrachloride',\n",
       " 'dimethyl_sulfate',\n",
       " 'fluorene',\n",
       " 'laccess_seniors15',\n",
       " 'b2_methylphenanthrene',\n",
       " 'methyl_bromide',\n",
       " 'ip_ddctbl_amt_rm_5',\n",
       " 'benzobfluoranthene',\n",
       " 'dera_30',\n",
       " 'methyl_methacrylate',\n",
       " 'cera_30Ischemic',\n",
       " 'methylhydrazine',\n",
       " 'm_crowd',\n",
       " 'clm_pymt_amt_rm_10',\n",
       " 'diethylene_glycol_monoethyl_ether',\n",
       " 'dichloroethyl_ether',\n",
       " 'recfac09',\n",
       " 'acrolein',\n",
       " 'm_disabl',\n",
       " 'wght_mean_2',\n",
       " 'acetaldehyde',\n",
       " 'pc_dirsales07',\n",
       " 'povrate15',\n",
       " 'last_yr_cost',\n",
       " 'carbon_disulfide',\n",
       " 'colvalue_agg_Creatinine_abnormal',\n",
       " 'propionaldehyde',\n",
       " 'd4_nitrophenol',\n",
       " 'clm_pymt_amt',\n",
       " 'rpl_theme1',\n",
       " 'clm_pymt_amt_rm_7',\n",
       " 'epl_mobile',\n",
       " 'n_n_dimethylaniline',\n",
       " 'pct_fmrkt_sfmnp16',\n",
       " 'propylene_dichloride',\n",
       " 'diesel_pm',\n",
       " 'colvalue_agg_Glucose_abnormal',\n",
       " 'clm_pymt_amt_rm_9',\n",
       " 'snapspth12',\n",
       " 'hydroquinone',\n",
       " 'vinylidene_chloride',\n",
       " 'flag_ratio_Hematocrit_normal',\n",
       " 'mp_limeng',\n",
       " 'acetonitrile',\n",
       " 'pentachlorophenol']"
      ]
     },
     "execution_count": 13,
     "metadata": {},
     "output_type": "execute_result"
    }
   ],
   "source": [
    "float_columns"
   ]
  },
  {
   "cell_type": "code",
   "execution_count": 15,
   "id": "11911363-42bc-4214-a4e2-c1ef09d65356",
   "metadata": {},
   "outputs": [],
   "source": [
    "columns = columns.keys()"
   ]
  },
  {
   "cell_type": "code",
   "execution_count": 14,
   "id": "9257f7d1-23cd-4526-978a-3b3c01988d2b",
   "metadata": {},
   "outputs": [
    {
     "data": {
      "text/html": [
       "<div>\n",
       "<style scoped>\n",
       "    .dataframe tbody tr th:only-of-type {\n",
       "        vertical-align: middle;\n",
       "    }\n",
       "\n",
       "    .dataframe tbody tr th {\n",
       "        vertical-align: top;\n",
       "    }\n",
       "\n",
       "    .dataframe thead th {\n",
       "        text-align: right;\n",
       "    }\n",
       "</style>\n",
       "<table border=\"1\" class=\"dataframe\">\n",
       "  <thead>\n",
       "    <tr style=\"text-align: right;\">\n",
       "      <th></th>\n",
       "      <th>patient_id</th>\n",
       "      <th>admityear</th>\n",
       "      <th>admitmonth</th>\n",
       "      <th>admitday</th>\n",
       "      <th>dischyear</th>\n",
       "      <th>dischmonth</th>\n",
       "      <th>dischday</th>\n",
       "      <th>chartyear</th>\n",
       "      <th>chartmonth</th>\n",
       "      <th>chartday</th>\n",
       "      <th>...</th>\n",
       "      <th>clm_pymt_amt_rm_9</th>\n",
       "      <th>snapspth12</th>\n",
       "      <th>hydroquinone</th>\n",
       "      <th>cera_30Alzheimer</th>\n",
       "      <th>vinylidene_chloride</th>\n",
       "      <th>flag_ratio_Hematocrit_normal</th>\n",
       "      <th>mp_limeng</th>\n",
       "      <th>acetonitrile</th>\n",
       "      <th>pentachlorophenol</th>\n",
       "      <th>drugs_cnt_uniq</th>\n",
       "    </tr>\n",
       "  </thead>\n",
       "  <tbody>\n",
       "    <tr>\n",
       "      <th>0</th>\n",
       "      <td>0001694E47AE68F9</td>\n",
       "      <td>2009</td>\n",
       "      <td>3</td>\n",
       "      <td>26</td>\n",
       "      <td>2009</td>\n",
       "      <td>3</td>\n",
       "      <td>26</td>\n",
       "      <td>2009</td>\n",
       "      <td>3</td>\n",
       "      <td>26</td>\n",
       "      <td>...</td>\n",
       "      <td>0.0</td>\n",
       "      <td>0.591384</td>\n",
       "      <td>0.0001</td>\n",
       "      <td>0</td>\n",
       "      <td>0.001567</td>\n",
       "      <td>0.0</td>\n",
       "      <td>0.3</td>\n",
       "      <td>0.323546</td>\n",
       "      <td>0.0</td>\n",
       "      <td>0</td>\n",
       "    </tr>\n",
       "    <tr>\n",
       "      <th>1</th>\n",
       "      <td>0001694E47AE68F9</td>\n",
       "      <td>2009</td>\n",
       "      <td>8</td>\n",
       "      <td>7</td>\n",
       "      <td>2009</td>\n",
       "      <td>8</td>\n",
       "      <td>7</td>\n",
       "      <td>2009</td>\n",
       "      <td>8</td>\n",
       "      <td>7</td>\n",
       "      <td>...</td>\n",
       "      <td>0.0</td>\n",
       "      <td>0.591384</td>\n",
       "      <td>0.0001</td>\n",
       "      <td>0</td>\n",
       "      <td>0.001567</td>\n",
       "      <td>0.0</td>\n",
       "      <td>0.3</td>\n",
       "      <td>0.323546</td>\n",
       "      <td>0.0</td>\n",
       "      <td>0</td>\n",
       "    </tr>\n",
       "    <tr>\n",
       "      <th>2</th>\n",
       "      <td>0001694E47AE68F9</td>\n",
       "      <td>2009</td>\n",
       "      <td>8</td>\n",
       "      <td>20</td>\n",
       "      <td>2009</td>\n",
       "      <td>8</td>\n",
       "      <td>20</td>\n",
       "      <td>2009</td>\n",
       "      <td>8</td>\n",
       "      <td>20</td>\n",
       "      <td>...</td>\n",
       "      <td>0.0</td>\n",
       "      <td>0.591384</td>\n",
       "      <td>0.0001</td>\n",
       "      <td>0</td>\n",
       "      <td>0.001567</td>\n",
       "      <td>0.0</td>\n",
       "      <td>0.3</td>\n",
       "      <td>0.323546</td>\n",
       "      <td>0.0</td>\n",
       "      <td>0</td>\n",
       "    </tr>\n",
       "    <tr>\n",
       "      <th>3</th>\n",
       "      <td>0001694E47AE68F9</td>\n",
       "      <td>2009</td>\n",
       "      <td>9</td>\n",
       "      <td>13</td>\n",
       "      <td>2009</td>\n",
       "      <td>9</td>\n",
       "      <td>13</td>\n",
       "      <td>2009</td>\n",
       "      <td>9</td>\n",
       "      <td>13</td>\n",
       "      <td>...</td>\n",
       "      <td>0.0</td>\n",
       "      <td>0.591384</td>\n",
       "      <td>0.0001</td>\n",
       "      <td>0</td>\n",
       "      <td>0.001567</td>\n",
       "      <td>0.0</td>\n",
       "      <td>0.3</td>\n",
       "      <td>0.323546</td>\n",
       "      <td>0.0</td>\n",
       "      <td>0</td>\n",
       "    </tr>\n",
       "    <tr>\n",
       "      <th>4</th>\n",
       "      <td>0001694E47AE68F9</td>\n",
       "      <td>2009</td>\n",
       "      <td>11</td>\n",
       "      <td>24</td>\n",
       "      <td>2009</td>\n",
       "      <td>11</td>\n",
       "      <td>24</td>\n",
       "      <td>2009</td>\n",
       "      <td>11</td>\n",
       "      <td>24</td>\n",
       "      <td>...</td>\n",
       "      <td>0.0</td>\n",
       "      <td>0.591384</td>\n",
       "      <td>0.0001</td>\n",
       "      <td>0</td>\n",
       "      <td>0.001567</td>\n",
       "      <td>0.0</td>\n",
       "      <td>0.3</td>\n",
       "      <td>0.323546</td>\n",
       "      <td>0.0</td>\n",
       "      <td>0</td>\n",
       "    </tr>\n",
       "  </tbody>\n",
       "</table>\n",
       "<p>5 rows × 110 columns</p>\n",
       "</div>"
      ],
      "text/plain": [
       "         patient_id  admityear  admitmonth  admitday  dischyear  dischmonth  \\\n",
       "0  0001694E47AE68F9       2009           3        26       2009           3   \n",
       "1  0001694E47AE68F9       2009           8         7       2009           8   \n",
       "2  0001694E47AE68F9       2009           8        20       2009           8   \n",
       "3  0001694E47AE68F9       2009           9        13       2009           9   \n",
       "4  0001694E47AE68F9       2009          11        24       2009          11   \n",
       "\n",
       "   dischday  chartyear  chartmonth  chartday  ...  clm_pymt_amt_rm_9  \\\n",
       "0        26       2009           3        26  ...                0.0   \n",
       "1         7       2009           8         7  ...                0.0   \n",
       "2        20       2009           8        20  ...                0.0   \n",
       "3        13       2009           9        13  ...                0.0   \n",
       "4        24       2009          11        24  ...                0.0   \n",
       "\n",
       "   snapspth12  hydroquinone  cera_30Alzheimer  vinylidene_chloride  \\\n",
       "0    0.591384        0.0001                 0             0.001567   \n",
       "1    0.591384        0.0001                 0             0.001567   \n",
       "2    0.591384        0.0001                 0             0.001567   \n",
       "3    0.591384        0.0001                 0             0.001567   \n",
       "4    0.591384        0.0001                 0             0.001567   \n",
       "\n",
       "   flag_ratio_Hematocrit_normal  mp_limeng  acetonitrile pentachlorophenol  \\\n",
       "0                           0.0        0.3      0.323546               0.0   \n",
       "1                           0.0        0.3      0.323546               0.0   \n",
       "2                           0.0        0.3      0.323546               0.0   \n",
       "3                           0.0        0.3      0.323546               0.0   \n",
       "4                           0.0        0.3      0.323546               0.0   \n",
       "\n",
       "   drugs_cnt_uniq  \n",
       "0               0  \n",
       "1               0  \n",
       "2               0  \n",
       "3               0  \n",
       "4               0  \n",
       "\n",
       "[5 rows x 110 columns]"
      ]
     },
     "execution_count": 14,
     "metadata": {},
     "output_type": "execute_result"
    }
   ],
   "source": [
    "df = df[column_type.keys()]\n",
    "df.head()"
   ]
  },
  {
   "cell_type": "markdown",
   "id": "aa356012",
   "metadata": {
    "id": "aa356012"
   },
   "source": [
    "There are 24M records with 12 fields. We need to convert the structured tabular data into a format that NeMo GPT can consume. The NeMo GPT uses training data in a loose json format, with one json containing a text sample per line. For example:\n",
    "```json\n",
    "{\"text\": \"The quick brown fox\"}\n",
    "{\"text\": \"jumps over the lazy dog\"}\n",
    "```\n",
    "We can concat each fields of the transactions together like:\n",
    "```json\n",
    "{\"text\": \"0,0,2002,9,1,06:21,$134.09,Swipe Transaction,3527213246127876953,La Verne,CA,91750.0,5300,NaN,No\\n0,0,2002,9,1,06:42,$38.48,Swipe,Transaction,-727612092139916043,Monterey Park,CA,91754.0,5411,NaN,No...\"}\n",
    "...\n",
    "```\n",
    "In this way, the tabular data is converted into NLP text corpus. \n",
    "\n",
    "### NeMo GPT Workflow\n",
    "```\n",
    "                       +-----------+\n",
    "      +--------------->|Tokenizer  |\n",
    "      |                +-----+-----+\n",
    "      |                      |\n",
    "+-----+-----+          +-----v--------+      +---------+\n",
    "|  Raw Data +--------->| Preprocess   +----->|Pretrain |\n",
    "|           |          |              |      +-----+---+\n",
    "+-----------+          +--------------+            |\n",
    "                                                   |\n",
    "                                           +-------v----------+\n",
    "                                           |  Inference       |\n",
    "                                           | (Text Generation)|\n",
    "                                           +------------------+\n",
    "```\n",
    "As shown in the figure above, it illustrates the steps we are going to take in this tutorial. Having the raw text data ready, we first train a tokenizer to efficiently tokenize the text.  As NeMo only cares about sequences of tokens, a preprocess step is used to convert the raw text data into sequences of token index. It results in one binary file and an index file so data loading in the training step is more efficient.  The next step is the most time consuming pre-training step in which sequences of tokens are fed into the NeMo GPT to predict the next tokens. The prediction error is used as the loss to train the GPT weights. After training the GPT model, it can be put into an inference mode to generate synthetic data following the same distribution as the training dataset. \n",
    "\n",
    "# 2.Tokenizer training\n",
    "It is natural to select the generic GPT BPE tokenizer to convert the text into tokens. However, there are a few problems of using this approach. When GPT BPE tokenizer splits the text into tokens, the number of tokens are usually not fixed for the same column at different rows, because the number is determined by the occurrence frequencies of the individual sub-tokens. This means the structure information is lost if we use the NLP tokenizer. Another problem with the NLP tokenizer is the long string consists of a large number of tokens, which is wasteful considering the NeMo GPT has limited capacity of modeling the sequences of tokens. For example the \"Merchant Name\" \"3527213246127876953\" need at least 7 tokens to code it ([35][27][213][246][127][876][953]). \n",
    "\n",
    "As shown in the [TabFormer paper](https://arxiv.org/abs/2011.01843), a good solution is to build a specialized tokenizer for the tabular data that considers the table structural information. The TabFormer uses a single token for each of the columns which can cause either accuracy loss if the number of tokens is small for the column, or weak generalization if the number of tokens is too large. We improve it by using multiple tokens to code the columns. For example, the floating number \"134.09\" can be tokenized into multiple integers.\n",
    "\n",
    "The following code trains a special encoder/decoder used in the tokenizer. It uses `float` for the `Amount` column, `int` for the `zip` column and `category` for the rest of the columns. The trained encoder and decoder are saved into a file that can be loaded later. We choose to use 3 tokens to encode the floating and int numbers in this example."
   ]
  },
  {
   "cell_type": "code",
   "execution_count": null,
   "id": "16298d39",
   "metadata": {
    "colab": {
     "base_uri": "https://localhost:8080/"
    },
    "id": "16298d39",
    "outputId": "bbdbeee1-3dac-4e2f-c311-3e7a2e2f5099"
   },
   "outputs": [],
   "source": [
    "\n",
    "tab_structure = []\n",
    "for c in columns:\n",
    "    if c in float_columns:\n",
    "        item = {\n",
    "            \"name\": c,\n",
    "            \"code_type\": \"float\",\n",
    "            \"args\": {\n",
    "                \"code_len\": 6,  # number of tokens used to code the column\n",
    "                \"base\": 32,   # the positional base number. ie. it uses 32 tokens for one digit\n",
    "                \"fillall\": True, # whether to use full base number for each token or derive it from the data.\n",
    "                \"hasnan\": False, # can it handles nan or not\n",
    "                \"transform\": \"yeo-johnson\" # can be ['yeo-johnson', 'quantile', 'robust'], check https://scikit-learn.org/stable/modules/classes.html#module-sklearn.preprocessing \n",
    "            }\n",
    "        }\n",
    "    elif c in integer_columns:\n",
    "        item = {\n",
    "            \"name\": c,\n",
    "            \"code_type\": \"int\",\n",
    "            \"args\": {\n",
    "                \"code_len\": 6,  # number of tokens used to code the column\n",
    "                \"base\": 47,   # the positional base number. ie. it uses 32 tokens for one digit\n",
    "                \"fillall\": True, # whether to use full base number for each token or derive it from the data.\n",
    "                \"hasnan\": True, # can it handles nan or not\n",
    "            }\n",
    "        }\n",
    "    else:\n",
    "        item = {\n",
    "            \"name\": c,\n",
    "            \"code_type\": \"category\",\n",
    "        }\n",
    "    tab_structure.append(item)\n",
    "print(tab_structure)\n",
    "print(OmegaConf.to_yaml(tab_structure))\n",
    "print(columns)\n",
    "\n",
    "example_arrays = {}\n",
    "for col in tab_structure:\n",
    "    col_name = col['name']\n",
    "    if col_name in category_columns:\n",
    "        example_arrays[col_name] = [i.strip() for i in df[col_name].astype(str).unique()]\n",
    "    else:\n",
    "        example_arrays[col_name] = df[col_name].dropna().unique()\n",
    "cc = ColumnCodes.get_column_codes(tab_structure, example_arrays)\n",
    "print('each row uses', sum(cc.sizes)+ 1, 'tokens')\n",
    "with open(CC_OUTPUT_P, 'wb') as handle:\n",
    "    pickle.dump(cc, handle)\n"
   ]
  },
  {
   "cell_type": "code",
   "execution_count": 16,
   "id": "7e75ab53-3f29-41a1-9a03-fd6863ff148a",
   "metadata": {},
   "outputs": [
    {
     "data": {
      "text/plain": [
       "Index(['admityear', 'admitmonth', 'admitday', 'dischyear', 'dischmonth',\n",
       "       'dischday', 'chartyear', 'chartmonth', 'chartday',\n",
       "       'cera_30Hypertension',\n",
       "       ...\n",
       "       'clm_pymt_amt_rm_9', 'snapspth12', 'hydroquinone', 'cera_30Alzheimer',\n",
       "       'vinylidene_chloride', 'flag_ratio_Hematocrit_normal', 'mp_limeng',\n",
       "       'acetonitrile', 'pentachlorophenol', 'drugs_cnt_uniq'],\n",
       "      dtype='object', length=109)"
      ]
     },
     "execution_count": 16,
     "metadata": {},
     "output_type": "execute_result"
    }
   ],
   "source": [
    "columns"
   ]
  },
  {
   "cell_type": "markdown",
   "id": "02bff63f",
   "metadata": {
    "id": "02bff63f"
   },
   "source": [
    "Let's give it a try to play with encoder and decoder for \"Amount\" and \"Merchant City\" columns"
   ]
  },
  {
   "cell_type": "code",
   "execution_count": 19,
   "id": "ca2f95ba",
   "metadata": {
    "colab": {
     "base_uri": "https://localhost:8080/"
    },
    "id": "ca2f95ba",
    "outputId": "9d7eb7d2-f3c7-4005-ce4d-2fd0dc62eece"
   },
   "outputs": [
    {
     "name": "stdout",
     "output_type": "stream",
     "text": [
      "token ids for 2009 is [235, 188, 141, 94, 47, 0]\n",
      "recovered Amt for 2009 is 2009\n",
      "token ids for OHIO is [15635]\n",
      "recovered City for OHIO is OHIO\n"
     ]
    }
   ],
   "source": [
    "float_str = '2009'\n",
    "token_ids = cc.encode('admityear', float_str)\n",
    "print('token ids for {} is {}'.format(float_str, token_ids))\n",
    "amt_str = cc.decode('admityear', token_ids)\n",
    "print('recovered Amt for {} is {}'.format(float_str, amt_str))\n",
    "\n",
    "city_str = 'OHIO'\n",
    "token_ids = cc.encode('state', city_str)\n",
    "print('token ids for {} is {}'.format(city_str, token_ids))\n",
    "amt_str = cc.decode('state', token_ids)\n",
    "print('recovered City for {} is {}'.format(city_str, amt_str))"
   ]
  },
  {
   "cell_type": "markdown",
   "id": "89e1e5b3",
   "metadata": {
    "id": "89e1e5b3"
   },
   "source": [
    "Using 3 tokens for the float column `Amount`, this is a tiny loss of accuracy. If better accuracy is needed, more tokens can be used to train the tokenizer. For the categorical column \"Merchant City\", the string \"Monterey Park\" only needs one token to encode it. Once we have the encoder and decoder ready, the tokenizer is easy to implement. We can consider the tabular data structure information to encode each of the columns. The decoding simply counts the number of tokens to infer the tabular structure since the number of the tokens are fixed for each of the columns.\n",
    "\n",
    "There is one more thing that we need to take special care of before generating the loose json file for NeMo. `<|endoftext|>` is a special token that NeMo recognizes to indicate the beginning and end of the document. The attention mask will stop at the boundary of `<|endoftext|>` token so no attention can be applied across it. To model the temporal information in the time series, we want to make sure the `<|endoftext|>` is added between the continuous sections. For example, in this credit card dataset, there are 2000 users. Each user's transactions are one long time series sequence. The `<|endoftext|>` is added at the end of the long sequences. In this way, NeMo applies attention to learn the temporal correlation in the transactions for the user but not across users. \n",
    "\n",
    "We have provided the Python code to convert the CSV file into the loose json format."
   ]
  },
  {
   "cell_type": "code",
   "execution_count": 59,
   "id": "5e9b5727",
   "metadata": {
    "id": "5e9b5727"
   },
   "outputs": [],
   "source": [
    "delimiter = ','\n",
    "eod_str = '<|endoftext|>'\n",
    "int_nan = '<NA>'\n",
    "\n",
    "\n",
    "def get_docs_from_df(one_group):\n",
    "    user_df = one_group[1]\n",
    "    total = []\n",
    "    # sort the rows by time, so the model can learn temporal info\n",
    "    sub_df = user_df.sort_values(['admityear', 'admitmonth', 'admitday','dischyear','dischmonth','dischday','chartyear','chartmonth','chartday'])[columns]\n",
    "    start_rows = range(0, doc_augements)\n",
    "    full_msgs = []\n",
    "    for start in start_rows:\n",
    "        full_msgs = []\n",
    "        doc_df = sub_df.iloc[start:]\n",
    "        count = 0\n",
    "        df_size = len(doc_df)       \n",
    "        for row in doc_df.iterrows():\n",
    "            count += 1\n",
    "            items = row[1].values\n",
    "            str_items = [str(items[i]).replace(int_nan, 'nan') for i in range(len(items))]\n",
    "            if count == df_size:\n",
    "                # append eod at the end of the doc\n",
    "                full_msgs.append(delimiter.join(str_items)+eod_str)\n",
    "            else:\n",
    "                full_msgs.append(delimiter.join(str_items))\n",
    "        # use end of line to seperate rows\n",
    "        text = '\\n'.join(full_msgs)\n",
    "        text_doc = {'text': text}\n",
    "        doc = json.dumps(text_doc)+'\\n'\n",
    "        total.append(doc)\n",
    "    return total\n",
    "\n",
    "\n",
    "def gen_one_doc(user_group, n_cores):\n",
    "    udfs = list(user_group)\n",
    "    pool = Pool(n_cores)\n",
    "    docs = pool.map(get_docs_from_df, udfs)\n",
    "    pool.close()\n",
    "    pool.join()\n",
    "    return functools.reduce(lambda a, b: a + b, docs)\n",
    "\n",
    "# number of document augmentation\n",
    "doc_augements = 2\n",
    "\n",
    "user_group = df.groupby('patient_id')\n",
    "\n",
    "with open(CC_OUTPUT_J, 'w') as f:\n",
    "    docs = gen_one_doc(user_group, 16)\n",
    "    for doc in docs:\n",
    "        f.write(doc)"
   ]
  },
  {
   "cell_type": "code",
   "execution_count": 60,
   "id": "7bde5362-20a8-4b8e-9531-159ea3dc8215",
   "metadata": {},
   "outputs": [
    {
     "data": {
      "text/html": [
       "<div>\n",
       "<style scoped>\n",
       "    .dataframe tbody tr th:only-of-type {\n",
       "        vertical-align: middle;\n",
       "    }\n",
       "\n",
       "    .dataframe tbody tr th {\n",
       "        vertical-align: top;\n",
       "    }\n",
       "\n",
       "    .dataframe thead th {\n",
       "        text-align: right;\n",
       "    }\n",
       "</style>\n",
       "<table border=\"1\" class=\"dataframe\">\n",
       "  <thead>\n",
       "    <tr style=\"text-align: right;\">\n",
       "      <th></th>\n",
       "      <th>admityear</th>\n",
       "      <th>admitmonth</th>\n",
       "      <th>admitday</th>\n",
       "      <th>dischyear</th>\n",
       "      <th>dischmonth</th>\n",
       "      <th>dischday</th>\n",
       "      <th>chartyear</th>\n",
       "      <th>chartmonth</th>\n",
       "      <th>chartday</th>\n",
       "      <th>cera_30Hypertension</th>\n",
       "      <th>...</th>\n",
       "      <th>clm_pymt_amt_rm_9</th>\n",
       "      <th>snapspth12</th>\n",
       "      <th>hydroquinone</th>\n",
       "      <th>cera_30Alzheimer</th>\n",
       "      <th>vinylidene_chloride</th>\n",
       "      <th>flag_ratio_Hematocrit_normal</th>\n",
       "      <th>mp_limeng</th>\n",
       "      <th>acetonitrile</th>\n",
       "      <th>pentachlorophenol</th>\n",
       "      <th>drugs_cnt_uniq</th>\n",
       "    </tr>\n",
       "    <tr>\n",
       "      <th>patient_id</th>\n",
       "      <th></th>\n",
       "      <th></th>\n",
       "      <th></th>\n",
       "      <th></th>\n",
       "      <th></th>\n",
       "      <th></th>\n",
       "      <th></th>\n",
       "      <th></th>\n",
       "      <th></th>\n",
       "      <th></th>\n",
       "      <th></th>\n",
       "      <th></th>\n",
       "      <th></th>\n",
       "      <th></th>\n",
       "      <th></th>\n",
       "      <th></th>\n",
       "      <th></th>\n",
       "      <th></th>\n",
       "      <th></th>\n",
       "      <th></th>\n",
       "      <th></th>\n",
       "    </tr>\n",
       "  </thead>\n",
       "  <tbody>\n",
       "    <tr>\n",
       "      <th>0001694E47AE68F9</th>\n",
       "      <td>2009.333333</td>\n",
       "      <td>6.888889</td>\n",
       "      <td>17.444444</td>\n",
       "      <td>2009.333333</td>\n",
       "      <td>6.888889</td>\n",
       "      <td>17.444444</td>\n",
       "      <td>2009.333333</td>\n",
       "      <td>6.888889</td>\n",
       "      <td>17.444444</td>\n",
       "      <td>0.000000</td>\n",
       "      <td>...</td>\n",
       "      <td>0.000000</td>\n",
       "      <td>0.591384</td>\n",
       "      <td>0.000100</td>\n",
       "      <td>0.000000</td>\n",
       "      <td>0.001567</td>\n",
       "      <td>0.0</td>\n",
       "      <td>0.30</td>\n",
       "      <td>0.323546</td>\n",
       "      <td>0.000000</td>\n",
       "      <td>0.0</td>\n",
       "    </tr>\n",
       "    <tr>\n",
       "      <th>0002056B40CEE448</th>\n",
       "      <td>2009.272727</td>\n",
       "      <td>5.818182</td>\n",
       "      <td>13.181818</td>\n",
       "      <td>2009.272727</td>\n",
       "      <td>5.818182</td>\n",
       "      <td>13.863636</td>\n",
       "      <td>2009.272727</td>\n",
       "      <td>5.818182</td>\n",
       "      <td>13.181818</td>\n",
       "      <td>0.136364</td>\n",
       "      <td>...</td>\n",
       "      <td>0.000000</td>\n",
       "      <td>0.696801</td>\n",
       "      <td>0.000153</td>\n",
       "      <td>0.045455</td>\n",
       "      <td>0.000193</td>\n",
       "      <td>0.0</td>\n",
       "      <td>0.30</td>\n",
       "      <td>2.941432</td>\n",
       "      <td>0.000000</td>\n",
       "      <td>0.0</td>\n",
       "    </tr>\n",
       "    <tr>\n",
       "      <th>000240D599ED789C</th>\n",
       "      <td>2009.363636</td>\n",
       "      <td>4.363636</td>\n",
       "      <td>13.727273</td>\n",
       "      <td>2009.363636</td>\n",
       "      <td>4.454545</td>\n",
       "      <td>13.636364</td>\n",
       "      <td>2009.363636</td>\n",
       "      <td>4.363636</td>\n",
       "      <td>13.727273</td>\n",
       "      <td>0.090909</td>\n",
       "      <td>...</td>\n",
       "      <td>3381.212121</td>\n",
       "      <td>0.621625</td>\n",
       "      <td>0.003974</td>\n",
       "      <td>0.090909</td>\n",
       "      <td>0.000688</td>\n",
       "      <td>0.0</td>\n",
       "      <td>0.30</td>\n",
       "      <td>0.157387</td>\n",
       "      <td>0.000001</td>\n",
       "      <td>0.0</td>\n",
       "    </tr>\n",
       "    <tr>\n",
       "      <th>0004FB2ED3823AA8</th>\n",
       "      <td>2009.538462</td>\n",
       "      <td>6.307692</td>\n",
       "      <td>15.846154</td>\n",
       "      <td>2009.576923</td>\n",
       "      <td>5.961538</td>\n",
       "      <td>14.346154</td>\n",
       "      <td>2009.538462</td>\n",
       "      <td>6.307692</td>\n",
       "      <td>15.846154</td>\n",
       "      <td>0.153846</td>\n",
       "      <td>...</td>\n",
       "      <td>557.136752</td>\n",
       "      <td>0.820179</td>\n",
       "      <td>0.008379</td>\n",
       "      <td>0.000000</td>\n",
       "      <td>0.003886</td>\n",
       "      <td>0.0</td>\n",
       "      <td>0.20</td>\n",
       "      <td>1.762268</td>\n",
       "      <td>0.000000</td>\n",
       "      <td>0.0</td>\n",
       "    </tr>\n",
       "    <tr>\n",
       "      <th>0007B80E222CD8B0</th>\n",
       "      <td>2009.583333</td>\n",
       "      <td>5.083333</td>\n",
       "      <td>16.416667</td>\n",
       "      <td>2009.583333</td>\n",
       "      <td>5.083333</td>\n",
       "      <td>17.416667</td>\n",
       "      <td>2009.583333</td>\n",
       "      <td>5.083333</td>\n",
       "      <td>16.416667</td>\n",
       "      <td>0.166667</td>\n",
       "      <td>...</td>\n",
       "      <td>0.000000</td>\n",
       "      <td>0.864417</td>\n",
       "      <td>0.020482</td>\n",
       "      <td>0.000000</td>\n",
       "      <td>0.020914</td>\n",
       "      <td>0.0</td>\n",
       "      <td>0.10</td>\n",
       "      <td>0.051159</td>\n",
       "      <td>0.000000</td>\n",
       "      <td>0.0</td>\n",
       "    </tr>\n",
       "    <tr>\n",
       "      <th>...</th>\n",
       "      <td>...</td>\n",
       "      <td>...</td>\n",
       "      <td>...</td>\n",
       "      <td>...</td>\n",
       "      <td>...</td>\n",
       "      <td>...</td>\n",
       "      <td>...</td>\n",
       "      <td>...</td>\n",
       "      <td>...</td>\n",
       "      <td>...</td>\n",
       "      <td>...</td>\n",
       "      <td>...</td>\n",
       "      <td>...</td>\n",
       "      <td>...</td>\n",
       "      <td>...</td>\n",
       "      <td>...</td>\n",
       "      <td>...</td>\n",
       "      <td>...</td>\n",
       "      <td>...</td>\n",
       "      <td>...</td>\n",
       "      <td>...</td>\n",
       "    </tr>\n",
       "    <tr>\n",
       "      <th>D3FDEE12EE74164F</th>\n",
       "      <td>2009.000000</td>\n",
       "      <td>2.000000</td>\n",
       "      <td>8.666667</td>\n",
       "      <td>2009.000000</td>\n",
       "      <td>2.000000</td>\n",
       "      <td>8.666667</td>\n",
       "      <td>2009.000000</td>\n",
       "      <td>2.000000</td>\n",
       "      <td>8.666667</td>\n",
       "      <td>0.000000</td>\n",
       "      <td>...</td>\n",
       "      <td>0.000000</td>\n",
       "      <td>0.853956</td>\n",
       "      <td>0.007855</td>\n",
       "      <td>0.000000</td>\n",
       "      <td>0.004064</td>\n",
       "      <td>0.0</td>\n",
       "      <td>0.30</td>\n",
       "      <td>0.057389</td>\n",
       "      <td>0.000041</td>\n",
       "      <td>0.0</td>\n",
       "    </tr>\n",
       "    <tr>\n",
       "      <th>D3FE36C6F7419237</th>\n",
       "      <td>2009.000000</td>\n",
       "      <td>3.000000</td>\n",
       "      <td>16.500000</td>\n",
       "      <td>2009.000000</td>\n",
       "      <td>3.000000</td>\n",
       "      <td>16.500000</td>\n",
       "      <td>2009.000000</td>\n",
       "      <td>3.000000</td>\n",
       "      <td>16.500000</td>\n",
       "      <td>0.000000</td>\n",
       "      <td>...</td>\n",
       "      <td>0.000000</td>\n",
       "      <td>0.853956</td>\n",
       "      <td>0.007855</td>\n",
       "      <td>0.000000</td>\n",
       "      <td>0.004064</td>\n",
       "      <td>0.0</td>\n",
       "      <td>0.30</td>\n",
       "      <td>0.057389</td>\n",
       "      <td>0.000041</td>\n",
       "      <td>0.0</td>\n",
       "    </tr>\n",
       "    <tr>\n",
       "      <th>D401ED967E8DD980</th>\n",
       "      <td>2009.000000</td>\n",
       "      <td>5.000000</td>\n",
       "      <td>7.500000</td>\n",
       "      <td>2009.000000</td>\n",
       "      <td>5.000000</td>\n",
       "      <td>7.500000</td>\n",
       "      <td>2009.000000</td>\n",
       "      <td>5.000000</td>\n",
       "      <td>7.500000</td>\n",
       "      <td>0.000000</td>\n",
       "      <td>...</td>\n",
       "      <td>0.000000</td>\n",
       "      <td>0.853956</td>\n",
       "      <td>0.007855</td>\n",
       "      <td>0.000000</td>\n",
       "      <td>0.004064</td>\n",
       "      <td>0.0</td>\n",
       "      <td>0.30</td>\n",
       "      <td>0.057389</td>\n",
       "      <td>0.000041</td>\n",
       "      <td>0.0</td>\n",
       "    </tr>\n",
       "    <tr>\n",
       "      <th>D402C7B652B4BDAF</th>\n",
       "      <td>2009.076923</td>\n",
       "      <td>7.615385</td>\n",
       "      <td>15.692308</td>\n",
       "      <td>2009.076923</td>\n",
       "      <td>7.769231</td>\n",
       "      <td>16.692308</td>\n",
       "      <td>2009.076923</td>\n",
       "      <td>7.615385</td>\n",
       "      <td>15.692308</td>\n",
       "      <td>0.153846</td>\n",
       "      <td>...</td>\n",
       "      <td>0.000000</td>\n",
       "      <td>0.853956</td>\n",
       "      <td>0.007855</td>\n",
       "      <td>0.153846</td>\n",
       "      <td>0.004064</td>\n",
       "      <td>0.0</td>\n",
       "      <td>0.30</td>\n",
       "      <td>0.057389</td>\n",
       "      <td>0.000041</td>\n",
       "      <td>0.0</td>\n",
       "    </tr>\n",
       "    <tr>\n",
       "      <th>D4033C486DFBA191</th>\n",
       "      <td>2009.500000</td>\n",
       "      <td>5.375000</td>\n",
       "      <td>15.750000</td>\n",
       "      <td>2009.500000</td>\n",
       "      <td>5.500000</td>\n",
       "      <td>15.500000</td>\n",
       "      <td>2009.500000</td>\n",
       "      <td>5.375000</td>\n",
       "      <td>15.750000</td>\n",
       "      <td>0.000000</td>\n",
       "      <td>...</td>\n",
       "      <td>0.000000</td>\n",
       "      <td>0.749763</td>\n",
       "      <td>0.004277</td>\n",
       "      <td>0.000000</td>\n",
       "      <td>0.024709</td>\n",
       "      <td>0.0</td>\n",
       "      <td>0.15</td>\n",
       "      <td>0.308979</td>\n",
       "      <td>0.000028</td>\n",
       "      <td>0.0</td>\n",
       "    </tr>\n",
       "  </tbody>\n",
       "</table>\n",
       "<p>29951 rows × 105 columns</p>\n",
       "</div>"
      ],
      "text/plain": [
       "                    admityear  admitmonth   admitday    dischyear  dischmonth  \\\n",
       "patient_id                                                                      \n",
       "0001694E47AE68F9  2009.333333    6.888889  17.444444  2009.333333    6.888889   \n",
       "0002056B40CEE448  2009.272727    5.818182  13.181818  2009.272727    5.818182   \n",
       "000240D599ED789C  2009.363636    4.363636  13.727273  2009.363636    4.454545   \n",
       "0004FB2ED3823AA8  2009.538462    6.307692  15.846154  2009.576923    5.961538   \n",
       "0007B80E222CD8B0  2009.583333    5.083333  16.416667  2009.583333    5.083333   \n",
       "...                       ...         ...        ...          ...         ...   \n",
       "D3FDEE12EE74164F  2009.000000    2.000000   8.666667  2009.000000    2.000000   \n",
       "D3FE36C6F7419237  2009.000000    3.000000  16.500000  2009.000000    3.000000   \n",
       "D401ED967E8DD980  2009.000000    5.000000   7.500000  2009.000000    5.000000   \n",
       "D402C7B652B4BDAF  2009.076923    7.615385  15.692308  2009.076923    7.769231   \n",
       "D4033C486DFBA191  2009.500000    5.375000  15.750000  2009.500000    5.500000   \n",
       "\n",
       "                   dischday    chartyear  chartmonth   chartday  \\\n",
       "patient_id                                                        \n",
       "0001694E47AE68F9  17.444444  2009.333333    6.888889  17.444444   \n",
       "0002056B40CEE448  13.863636  2009.272727    5.818182  13.181818   \n",
       "000240D599ED789C  13.636364  2009.363636    4.363636  13.727273   \n",
       "0004FB2ED3823AA8  14.346154  2009.538462    6.307692  15.846154   \n",
       "0007B80E222CD8B0  17.416667  2009.583333    5.083333  16.416667   \n",
       "...                     ...          ...         ...        ...   \n",
       "D3FDEE12EE74164F   8.666667  2009.000000    2.000000   8.666667   \n",
       "D3FE36C6F7419237  16.500000  2009.000000    3.000000  16.500000   \n",
       "D401ED967E8DD980   7.500000  2009.000000    5.000000   7.500000   \n",
       "D402C7B652B4BDAF  16.692308  2009.076923    7.615385  15.692308   \n",
       "D4033C486DFBA191  15.500000  2009.500000    5.375000  15.750000   \n",
       "\n",
       "                  cera_30Hypertension  ...  clm_pymt_amt_rm_9  snapspth12  \\\n",
       "patient_id                             ...                                  \n",
       "0001694E47AE68F9             0.000000  ...           0.000000    0.591384   \n",
       "0002056B40CEE448             0.136364  ...           0.000000    0.696801   \n",
       "000240D599ED789C             0.090909  ...        3381.212121    0.621625   \n",
       "0004FB2ED3823AA8             0.153846  ...         557.136752    0.820179   \n",
       "0007B80E222CD8B0             0.166667  ...           0.000000    0.864417   \n",
       "...                               ...  ...                ...         ...   \n",
       "D3FDEE12EE74164F             0.000000  ...           0.000000    0.853956   \n",
       "D3FE36C6F7419237             0.000000  ...           0.000000    0.853956   \n",
       "D401ED967E8DD980             0.000000  ...           0.000000    0.853956   \n",
       "D402C7B652B4BDAF             0.153846  ...           0.000000    0.853956   \n",
       "D4033C486DFBA191             0.000000  ...           0.000000    0.749763   \n",
       "\n",
       "                  hydroquinone  cera_30Alzheimer  vinylidene_chloride  \\\n",
       "patient_id                                                              \n",
       "0001694E47AE68F9      0.000100          0.000000             0.001567   \n",
       "0002056B40CEE448      0.000153          0.045455             0.000193   \n",
       "000240D599ED789C      0.003974          0.090909             0.000688   \n",
       "0004FB2ED3823AA8      0.008379          0.000000             0.003886   \n",
       "0007B80E222CD8B0      0.020482          0.000000             0.020914   \n",
       "...                        ...               ...                  ...   \n",
       "D3FDEE12EE74164F      0.007855          0.000000             0.004064   \n",
       "D3FE36C6F7419237      0.007855          0.000000             0.004064   \n",
       "D401ED967E8DD980      0.007855          0.000000             0.004064   \n",
       "D402C7B652B4BDAF      0.007855          0.153846             0.004064   \n",
       "D4033C486DFBA191      0.004277          0.000000             0.024709   \n",
       "\n",
       "                  flag_ratio_Hematocrit_normal  mp_limeng  acetonitrile  \\\n",
       "patient_id                                                                \n",
       "0001694E47AE68F9                           0.0       0.30      0.323546   \n",
       "0002056B40CEE448                           0.0       0.30      2.941432   \n",
       "000240D599ED789C                           0.0       0.30      0.157387   \n",
       "0004FB2ED3823AA8                           0.0       0.20      1.762268   \n",
       "0007B80E222CD8B0                           0.0       0.10      0.051159   \n",
       "...                                        ...        ...           ...   \n",
       "D3FDEE12EE74164F                           0.0       0.30      0.057389   \n",
       "D3FE36C6F7419237                           0.0       0.30      0.057389   \n",
       "D401ED967E8DD980                           0.0       0.30      0.057389   \n",
       "D402C7B652B4BDAF                           0.0       0.30      0.057389   \n",
       "D4033C486DFBA191                           0.0       0.15      0.308979   \n",
       "\n",
       "                  pentachlorophenol  drugs_cnt_uniq  \n",
       "patient_id                                           \n",
       "0001694E47AE68F9           0.000000             0.0  \n",
       "0002056B40CEE448           0.000000             0.0  \n",
       "000240D599ED789C           0.000001             0.0  \n",
       "0004FB2ED3823AA8           0.000000             0.0  \n",
       "0007B80E222CD8B0           0.000000             0.0  \n",
       "...                             ...             ...  \n",
       "D3FDEE12EE74164F           0.000041             0.0  \n",
       "D3FE36C6F7419237           0.000041             0.0  \n",
       "D401ED967E8DD980           0.000041             0.0  \n",
       "D402C7B652B4BDAF           0.000041             0.0  \n",
       "D4033C486DFBA191           0.000028             0.0  \n",
       "\n",
       "[29951 rows x 105 columns]"
      ]
     },
     "execution_count": 60,
     "metadata": {},
     "output_type": "execute_result"
    }
   ],
   "source": [
    "user_group.mean()"
   ]
  },
  {
   "cell_type": "markdown",
   "id": "05ebadc3",
   "metadata": {
    "id": "05ebadc3"
   },
   "source": [
    "After running the above cell, it converts the CSV file to the loose json format that the NeMo Megatron can use. It generates one document for each user. Each document ends with the `<|endoftext|>` token. We augment the data by shifting it by one transaction so the relative position of the input credit card transaction data is slightly different. "
   ]
  },
  {
   "cell_type": "markdown",
   "id": "2fe38a29",
   "metadata": {
    "id": "2fe38a29"
   },
   "source": [
    "Having the loose JSON file ready, we can test the customized Tabular Tokenizer."
   ]
  },
  {
   "cell_type": "code",
   "execution_count": 20,
   "id": "1d9d065e",
   "metadata": {
    "colab": {
     "base_uri": "https://localhost:8080/"
    },
    "id": "1d9d065e",
    "outputId": "ed845fb6-0fd7-48b4-f7f5-e1901741762f"
   },
   "outputs": [
    {
     "ename": "KeyError",
     "evalue": "'Oktibbeha County_ Mississippi'",
     "output_type": "error",
     "traceback": [
      "\u001b[0;31m---------------------------------------------------------------------------\u001b[0m",
      "\u001b[0;31mKeyError\u001b[0m                                  Traceback (most recent call last)",
      "Input \u001b[0;32mIn [20]\u001b[0m, in \u001b[0;36m<cell line: 9>\u001b[0;34m()\u001b[0m\n\u001b[1;32m      7\u001b[0m text \u001b[38;5;241m=\u001b[39m json\u001b[38;5;241m.\u001b[39mloads(line)[\u001b[38;5;124m'\u001b[39m\u001b[38;5;124mtext\u001b[39m\u001b[38;5;124m'\u001b[39m]\n\u001b[1;32m      8\u001b[0m r \u001b[38;5;241m=\u001b[39m tokenizer\u001b[38;5;241m.\u001b[39mtext_to_tokens(text)\n\u001b[0;32m----> 9\u001b[0m ids \u001b[38;5;241m=\u001b[39m \u001b[43mtokenizer\u001b[49m\u001b[38;5;241;43m.\u001b[39;49m\u001b[43mtokens_to_ids\u001b[49m\u001b[43m(\u001b[49m\u001b[43mr\u001b[49m\u001b[43m)\u001b[49m\n\u001b[1;32m     10\u001b[0m tex \u001b[38;5;241m=\u001b[39m tokenizer\u001b[38;5;241m.\u001b[39mids_to_tokens(ids)\n\u001b[1;32m     11\u001b[0m decoded_text \u001b[38;5;241m=\u001b[39m tokenizer\u001b[38;5;241m.\u001b[39mids_to_text(ids)\n",
      "File \u001b[0;32m/opt/conda/envs/nemo/lib/python3.9/site-packages/nemo/collections/common/tokenizers/tabular_tokenizer.py:132\u001b[0m, in \u001b[0;36mTabularTokenizer.tokens_to_ids\u001b[0;34m(self, tokens)\u001b[0m\n\u001b[1;32m    130\u001b[0m         index \u001b[38;5;241m=\u001b[39m cindex \u001b[38;5;241m%\u001b[39m \u001b[38;5;28mself\u001b[39m\u001b[38;5;241m.\u001b[39mnum_columns\n\u001b[1;32m    131\u001b[0m         column \u001b[38;5;241m=\u001b[39m \u001b[38;5;28mself\u001b[39m\u001b[38;5;241m.\u001b[39mcode_column\u001b[38;5;241m.\u001b[39mcolumns[index]\n\u001b[0;32m--> 132\u001b[0m         ids\u001b[38;5;241m.\u001b[39mextend(\u001b[38;5;28;43mself\u001b[39;49m\u001b[38;5;241;43m.\u001b[39;49m\u001b[43mcode_column\u001b[49m\u001b[38;5;241;43m.\u001b[39;49m\u001b[43mencode\u001b[49m\u001b[43m(\u001b[49m\u001b[43mcolumn\u001b[49m\u001b[43m,\u001b[49m\u001b[43m \u001b[49m\u001b[43mtoken\u001b[49m\u001b[43m)\u001b[49m)\n\u001b[1;32m    133\u001b[0m         cindex \u001b[38;5;241m+\u001b[39m\u001b[38;5;241m=\u001b[39m \u001b[38;5;241m1\u001b[39m\n\u001b[1;32m    134\u001b[0m \u001b[38;5;28;01mreturn\u001b[39;00m ids\n",
      "File \u001b[0;32m/opt/conda/envs/nemo/lib/python3.9/site-packages/nemo/collections/common/tokenizers/column_coder.py:277\u001b[0m, in \u001b[0;36mColumnCodes.encode\u001b[0;34m(self, col, item)\u001b[0m\n\u001b[1;32m    275\u001b[0m \u001b[38;5;28;01mdef\u001b[39;00m \u001b[38;5;21mencode\u001b[39m(\u001b[38;5;28mself\u001b[39m, col: \u001b[38;5;28mstr\u001b[39m, item: \u001b[38;5;28mstr\u001b[39m) \u001b[38;5;241m-\u001b[39m\u001b[38;5;241m>\u001b[39m List[\u001b[38;5;28mint\u001b[39m]:\n\u001b[1;32m    276\u001b[0m     \u001b[38;5;28;01mif\u001b[39;00m col \u001b[38;5;129;01min\u001b[39;00m \u001b[38;5;28mself\u001b[39m\u001b[38;5;241m.\u001b[39mcolumn_codes:\n\u001b[0;32m--> 277\u001b[0m         \u001b[38;5;28;01mreturn\u001b[39;00m \u001b[38;5;28;43mself\u001b[39;49m\u001b[38;5;241;43m.\u001b[39;49m\u001b[43mcolumn_codes\u001b[49m\u001b[43m[\u001b[49m\u001b[43mcol\u001b[49m\u001b[43m]\u001b[49m\u001b[38;5;241;43m.\u001b[39;49m\u001b[43mencode\u001b[49m\u001b[43m(\u001b[49m\u001b[43mitem\u001b[49m\u001b[43m)\u001b[49m\n\u001b[1;32m    278\u001b[0m     \u001b[38;5;28;01melse\u001b[39;00m:\n\u001b[1;32m    279\u001b[0m         \u001b[38;5;28;01mraise\u001b[39;00m \u001b[38;5;167;01mValueError\u001b[39;00m(\u001b[38;5;124mf\u001b[39m\u001b[38;5;124m\"\u001b[39m\u001b[38;5;124mcannot encode \u001b[39m\u001b[38;5;132;01m{\u001b[39;00mcol\u001b[38;5;132;01m}\u001b[39;00m\u001b[38;5;124m \u001b[39m\u001b[38;5;132;01m{\u001b[39;00mitem\u001b[38;5;132;01m}\u001b[39;00m\u001b[38;5;124m\"\u001b[39m)\n",
      "File \u001b[0;32m/opt/conda/envs/nemo/lib/python3.9/site-packages/nemo/collections/common/tokenizers/column_coder.py:251\u001b[0m, in \u001b[0;36mCategoryCode.encode\u001b[0;34m(self, item)\u001b[0m\n\u001b[1;32m    250\u001b[0m \u001b[38;5;28;01mdef\u001b[39;00m \u001b[38;5;21mencode\u001b[39m(\u001b[38;5;28mself\u001b[39m, item) \u001b[38;5;241m-\u001b[39m\u001b[38;5;241m>\u001b[39m List[\u001b[38;5;28mint\u001b[39m]:\n\u001b[0;32m--> 251\u001b[0m     \u001b[38;5;28;01mreturn\u001b[39;00m [\u001b[38;5;28;43mself\u001b[39;49m\u001b[38;5;241;43m.\u001b[39;49m\u001b[43mitem_to_id\u001b[49m\u001b[43m[\u001b[49m\u001b[43mitem\u001b[49m\u001b[43m]\u001b[49m]\n",
      "\u001b[0;31mKeyError\u001b[0m: 'Oktibbeha County_ Mississippi'"
     ]
    }
   ],
   "source": [
    "tokenizer = TabularTokenizer(CC_OUTPUT_P, delimiter=',')\n",
    "\n",
    "with open(CC_OUTPUT_J, 'r') as f:\n",
    "    for line in f:\n",
    "        break\n",
    "\n",
    "text = json.loads(line)['text']\n",
    "r = tokenizer.text_to_tokens(text)\n",
    "ids = tokenizer.tokens_to_ids(r)\n",
    "tex = tokenizer.ids_to_tokens(ids)\n",
    "decoded_text = tokenizer.ids_to_text(ids)\n",
    "show_num_lines = 5\n",
    "print('raw input text\\n', '\\n'.join(text.split('\\n')[:show_num_lines]))\n",
    "print('tokens\\n', r[:show_num_lines*len(tokenizer.code_column.columns)])\n",
    "print('token ids\\n', ids[:show_num_lines*(sum(tokenizer.code_column.sizes)+1)])\n",
    "print('decoded tokens\\n', tex[:show_num_lines*(sum(tokenizer.code_column.sizes)+1)])\n",
    "print('decoded text\\n', '\\n'.join(decoded_text.split('\\n')[:show_num_lines]))\n",
    "print(len(r[:show_num_lines*len(tokenizer.code_column.columns)]))"
   ]
  },
  {
   "cell_type": "code",
   "execution_count": 21,
   "id": "0dcdce9f-3c45-4720-9059-1ba42ce44514",
   "metadata": {},
   "outputs": [
    {
     "name": "stdout",
     "output_type": "stream",
     "text": [
      "raw input text\n",
      " 2010,4,6,2010,4,6,2010,4,6,0,1,1,1,0,0,0,0.00000000,Delaware County  Pennsylvania,0.39999999,0.00676585,Delaware,1,0,1,0,0.00857885,0,0,0.00000000,0.00331584,0.00000000,0,0,0,14276.23142521,0,0,8.66480600,0.00539408,0,0,0.00001180,0.01655906,13472.32828466,0,PA,0.00116019,0,0.00026271,PENNSYLVANIA,0.00000000,0.00192493,0.00000000,0.22055985,0.00000000,0.00000000,303.09999698,0,0,0.00000000,0.00000000,0,0.00000000,0,83.99999783,0.51579630,1487.99998394,0,0.00000000,0,3.30377683,0.08830164,0,0,0,10.39999987,1,0,0.00000000,0.01500722,0.00000000,0.28498782,0.01480469,0,0.00000000,0.20529999,0.00000000,0.01079999,0,0,0,0,0.00290252,83.33333270,0,0.00034082,9.82300603,0,0.00000000,0.00000000,0.69298648,0.01072868,0,0.00381294,0.00000000,0.19999999,0.00157357,0.00000090,0\n",
      "<|endoftext|>\n",
      "tokens\n",
      " ['2010', '4', '6', '2010', '4', '6', '2010', '4', '6', '0', '1', '1', '1', '0', '0', '0', '0.00000000', 'Delaware County  Pennsylvania', '0.39999999', '0.00676585', 'Delaware', '1', '0', '1', '0', '0.00857885', '0', '0', '0.00000000', '0.00331584', '0.00000000', '0', '0', '0', '14276.23142521', '0', '0', '8.66480600', '0.00539408', '0', '0', '0.00001180', '0.01655906', '13472.32828466', '0', 'PA', '0.00116019', '0', '0.00026271', 'PENNSYLVANIA', '0.00000000', '0.00192493', '0.00000000', '0.22055985', '0.00000000', '0.00000000', '303.09999698', '0', '0', '0.00000000', '0.00000000', '0', '0.00000000', '0', '83.99999783', '0.51579630', '1487.99998394', '0', '0.00000000', '0', '3.30377683', '0.08830164', '0', '0', '0', '10.39999987', '1', '0', '0.00000000', '0.01500722', '0.00000000', '0.28498782', '0.01480469', '0', '0.00000000', '0.20529999', '0.00000000', '0.01079999', '0', '0', '0', '0', '0.00290252', '83.33333270', '0', '0.00034082', '9.82300603', '0', '0.00000000', '0.00000000', '0.69298648', '0.01072868', '0', '0.00381294', '0.00000000', '0.19999999', '0.00157357', '0.00000090', '0', '\\n', '<|endoftext|>']\n",
      "token ids\n",
      " [235, 188, 141, 94, 47, 1, 518, 471, 424, 377, 330, 286, 801, 754, 707, 660, 613, 571, 1084, 1037, 990, 943, 896, 850, 1367, 1320, 1273, 1226, 1179, 1135, 1650, 1603, 1556, 1509, 1462, 1420, 1933, 1886, 1839, 1792, 1745, 1699, 2216, 2169, 2122, 2075, 2028, 1984, 2499, 2452, 2405, 2358, 2311, 2269, 2782, 2735, 2688, 2641, 2594, 2547, 3065, 3018, 2971, 2924, 2877, 2831, 3348, 3301, 3254, 3207, 3160, 3114, 3631, 3584, 3537, 3490, 3443, 3397, 3914, 3867, 3820, 3773, 3726, 3679, 4197, 4150, 4103, 4056, 4009, 3962, 4480, 4433, 4386, 4339, 4292, 4245, 4688, 4656, 4624, 4592, 4560, 4528, 5328, 7308, 7290, 7248, 7229, 7191, 7154, 7503, 7469, 7464, 7409, 7398, 7347, 7919, 9253, 9206, 9159, 9112, 9065, 9019, 9536, 9489, 9442, 9395, 9348, 9301, 9819, 9772, 9725, 9678, 9631, 9585, 10102, 10055, 10008, 9961, 9914, 9867, 10313, 10296, 10270, 10227, 10190, 10152, 10577, 10530, 10483, 10436, 10389, 10342, 10860, 10813, 10766, 10719, 10672, 10625, 11068, 11036, 11004, 10972, 10940, 10908, 11260, 11252, 11218, 11169, 11135, 11118, 11452, 11420, 11388, 11356, 11324, 11292, 11719, 11672, 11625, 11578, 11531, 11484, 12002, 11955, 11908, 11861, 11814, 11767, 12285, 12238, 12191, 12144, 12097, 12050, 12496, 12488, 12460, 12413, 12390, 12359, 12760, 12713, 12666, 12619, 12572, 12525, 13043, 12996, 12949, 12902, 12855, 12808, 13254, 13224, 13205, 13164, 13124, 13112, 13444, 13416, 13402, 13378, 13318, 13295, 13710, 13663, 13616, 13569, 13522, 13475, 13993, 13946, 13899, 13852, 13805, 13758, 14201, 14169, 14143, 14116, 14091, 14063, 14396, 14380, 14358, 14317, 14271, 14258, 14590, 14565, 14524, 14503, 14465, 14444, 14852, 14805, 14758, 14711, 14664, 14617, 14929, 15104, 15101, 15064, 15013, 14997, 14961, 15369, 15322, 15275, 15228, 15181, 15134, 15577, 15545, 15516, 15490, 15467, 15427, 15638, 15811, 15779, 15747, 15715, 15683, 15651, 16006, 15986, 15969, 15926, 15897, 15856, 16195, 16163, 16131, 16099, 16067, 16035, 16390, 16370, 16331, 16295, 16269, 16239, 16579, 16547, 16515, 16483, 16451, 16419, 16771, 16739, 16707, 16675, 16643, 16611, 16966, 16959, 16911, 16890, 16865, 16817, 17230, 17183, 17136, 17089, 17042, 16995, 17513, 17466, 17419, 17372, 17325, 17278, 17721, 17689, 17657, 17625, 17593, 17561, 17913, 17881, 17849, 17817, 17785, 17753, 18180, 18133, 18086, 18039, 17992, 17945, 18388, 18356, 18324, 18292, 18260, 18228, 18655, 18608, 18561, 18514, 18467, 18420, 18865, 18859, 18800, 18780, 18740, 18727, 19057, 19043, 19000, 18969, 18937, 18903, 19250, 19242, 19191, 19151, 19132, 19110, 19514, 19467, 19420, 19373, 19326, 19279, 19722, 19690, 19658, 19626, 19594, 19562, 19989, 19942, 19895, 19848, 19801, 19754, 20200, 20176, 20156, 20114, 20096, 20068, 20389, 20360, 20352, 20316, 20287, 20239, 20656, 20609, 20562, 20515, 20468, 20421, 20939, 20892, 20845, 20798, 20751, 20704, 21222, 21175, 21128, 21081, 21034, 20987, 21431, 21400, 21380, 21357, 21310, 21294, 21697, 21650, 21603, 21556, 21509, 21463, 21980, 21933, 21886, 21839, 21792, 21745, 22188, 22156, 22124, 22092, 22060, 22028, 22380, 22366, 22317, 22285, 22253, 22223, 22572, 22540, 22508, 22476, 22444, 22412, 22767, 22762, 22719, 22672, 22662, 22607, 22959, 22930, 22921, 22878, 22835, 22810, 23223, 23176, 23129, 23082, 23035, 22988, 23431, 23399, 23367, 23335, 23303, 23271, 23623, 23616, 23569, 23547, 23501, 23473, 23815, 23783, 23751, 23719, 23687, 23655, 24007, 23975, 23956, 23929, 23893, 23867, 24274, 24227, 24180, 24133, 24086, 24039, 24557, 24510, 24463, 24416, 24369, 24322, 24840, 24793, 24746, 24699, 24652, 24605, 25123, 25076, 25029, 24982, 24935, 24888, 25334, 25299, 25281, 25238, 25215, 25192, 25526, 25518, 25480, 25440, 25415, 25370, 25790, 25743, 25696, 25649, 25602, 25555, 25998, 25970, 25951, 25918, 25870, 25844, 26194, 26158, 26148, 26100, 26073, 26042, 26457, 26410, 26363, 26316, 26269, 26222, 26665, 26633, 26601, 26569, 26537, 26505, 26857, 26825, 26793, 26761, 26729, 26697, 27053, 27022, 26998, 26966, 26937, 26903, 27243, 27240, 27177, 27163, 27114, 27099, 27508, 27461, 27414, 27367, 27320, 27273, 27717, 27705, 27677, 27633, 27602, 27575, 27908, 27876, 27844, 27812, 27780, 27748, 28100, 28072, 28058, 28035, 27978, 27953, 28292, 28260, 28236, 28217, 28193, 28141, 28484, 28452, 28421, 28411, 28371, 28325, 28751, 28704, 28657, 28610, 28563, 28516, 28800, 28799]\n",
      "decoded tokens\n",
      " ['2010', '4', '6', '2010', '4', '6', '2010', '4', '6', '0', '1', '1', '1', '0', '0', '0', '0.00000000', 'Delaware County  Pennsylvania', '0.39999998', '0.00676585', 'Delaware', '1', '0', '1', '0', '0.00857885', '0', '0', '0.00000000', '0.00331584', '0.00000000', '0', '0', '0', '14276.23141402', '0', '0', '8.66480533', '0.00539408', '0', '0', '0.00001180', '0.01655906', '13472.32790760', '0', 'PA', '0.00116019', '0', '0.00026271', 'PENNSYLVANIA', '0.00000000', '0.00192493', '0.00000000', '0.22055985', '0.00000000', '0.00000000', '303.09999536', '0', '0', '0.00000000', '0.00000000', '0', '0.00000000', '0', '83.99999572', '0.51579629', '1487.99997928', '0', '0.00000000', '0', '3.30377682', '0.08830162', '0', '0', '0', '10.39999968', '1', '0', '0.00000000', '0.01500722', '0.00000000', '0.28498782', '0.01480469', '0', '-0.00000000', '0.20529999', '0.00000000', '0.01079997', '0', '0', '0', '0', '0.00290252', '83.33333227', '0', '0.00034082', '9.82300582', '0', '0.00000000', '0.00000000', '0.69298647', '0.01072868', '0', '0.00381294', '0.00000000', '0.19999999', '0.00157357', '0.00000090', '0', '\\n', '<|endoftext|>']\n",
      "decoded text\n",
      " 2010,4,6,2010,4,6,2010,4,6,0,1,1,1,0,0,0,0.00000000,Delaware County  Pennsylvania,0.39999998,0.00676585,Delaware,1,0,1,0,0.00857885,0,0,0.00000000,0.00331584,0.00000000,0,0,0,14276.23141402,0,0,8.66480533,0.00539408,0,0,0.00001180,0.01655906,13472.32790760,0,PA,0.00116019,0,0.00026271,PENNSYLVANIA,0.00000000,0.00192493,0.00000000,0.22055985,0.00000000,0.00000000,303.09999536,0,0,0.00000000,0.00000000,0,0.00000000,0,83.99999572,0.51579629,1487.99997928,0,0.00000000,0,3.30377682,0.08830162,0,0,0,10.39999968,1,0,0.00000000,0.01500722,0.00000000,0.28498782,0.01480469,0,-0.00000000,0.20529999,0.00000000,0.01079997,0,0,0,0,0.00290252,83.33333227,0,0.00034082,9.82300582,0,0.00000000,0.00000000,0.69298647,0.01072868,0,0.00381294,0.00000000,0.19999999,0.00157357,0.00000090,0\n",
      "<|endoftext|>\n",
      "111\n"
     ]
    }
   ],
   "source": [
    "tokenizer = TabularTokenizer(CC_OUTPUT_P, delimiter=',')\n",
    "\n",
    "with open(CC_OUTPUT_J, 'r') as f:\n",
    "    for line in f:\n",
    "        break\n",
    "text = '2010,4,6,2010,4,6,2010,4,6,0,1,1,1,0,0,0,0.00000000,Delaware County  Pennsylvania,0.39999999,0.00676585,Delaware,1,0,1,0,0.00857885,0,0,0.00000000,0.00331584,0.00000000,0,0,0,14276.23142521,0,0,8.66480600,0.00539408,0,0,0.00001180,0.01655906,13472.32828466,0,PA,0.00116019,0,0.00026271,PENNSYLVANIA,0.00000000,0.00192493,0.00000000,0.22055985,0.00000000,0.00000000,303.09999698,0,0,0.00000000,0.00000000,0,0.00000000,0,83.99999783,0.51579630,1487.99998394,0,0.00000000,0,3.30377683,0.08830164,0,0,0,10.39999987,1,0,0.00000000,0.01500722,0.00000000,0.28498782,0.01480469,0,0.00000000,0.20529999,0.00000000,0.01079999,0,0,0,0,0.00290252,83.33333270,0,0.00034082,9.82300603,0,0.00000000,0.00000000,0.69298648,0.01072868,0,0.00381294,0.00000000,0.19999999,0.00157357,0.00000090,0\\n<|endoftext|>'\n",
    "#text = json.loads(line)['text']\n",
    "r = tokenizer.text_to_tokens(text)\n",
    "ids = tokenizer.tokens_to_ids(r)\n",
    "tex = tokenizer.ids_to_tokens(ids)\n",
    "decoded_text = tokenizer.ids_to_text(ids)\n",
    "show_num_lines = 5\n",
    "print('raw input text\\n', '\\n'.join(text.split('\\n')[:show_num_lines]))\n",
    "print('tokens\\n', r[:show_num_lines*len(tokenizer.code_column.columns)])\n",
    "print('token ids\\n', ids[:show_num_lines*(sum(tokenizer.code_column.sizes)+1)])\n",
    "print('decoded tokens\\n', tex[:show_num_lines*(sum(tokenizer.code_column.sizes)+1)])\n",
    "print('decoded text\\n', '\\n'.join(decoded_text.split('\\n')[:show_num_lines]))\n",
    "print(len(r[:show_num_lines*len(tokenizer.code_column.columns)]))"
   ]
  },
  {
   "cell_type": "code",
   "execution_count": null,
   "id": "3278d917-0ff3-4ed3-8ff8-3654c6658bd2",
   "metadata": {},
   "outputs": [],
   "source": [
    "['<|endoftext|>2010,4,6,2010,4,6,2010,4,6,0,1,1,1,0,0,0,0.00000000,Delaware County  Pennsylvania,0.39999999,0.00676585,Delaware,1,0,1,0,0.00857885,0,0,0.00000000,0.00331584,0.00000000,0,0,0,14276.23142521,0,0,8.66480600,0.00539408,0,0,0.00001180,0.01655906,13472.32828466,0,PA,0.00116019,0,0.00026271,PENNSYLVANIA,0.00000000,0.00192493,0.00000000,0.22055985,0.00000000,0.00000000,303.09999698,0,0,0.00000000,0.00000000,0,0.00000000,0,83.99999783,0.51579630,1487.99998394,0,0.00000000,0,3.30377683,0.08830164,0,0,0,10.39999987,1,0,0.00000000,0.01500722,0.00000000,0.28498782,0.01480469,0,0.00000000,0.20529999,0.00000000,0.01079999,0,0,0,0,0.00290252,83.33333270,0,0.00034082,9.82300603,0,0.00000000,0.00000000,0.69298648,0.01072868,0,0.00381294,0.00000000,0.19999999,0.00157357,0.00000090,0\\n']"
   ]
  },
  {
   "cell_type": "markdown",
   "id": "678f65ef",
   "metadata": {
    "id": "678f65ef"
   },
   "source": [
    "The TabularTokenizer understands the Table structure so it can convert back and forth between the tabular data text and the token ids.\n",
    "\n",
    "\n",
    "# 3.Model configuration\n",
    "\n",
    "\n",
    "We define the following constants to configure the GPT model "
   ]
  },
  {
   "cell_type": "code",
   "execution_count": null,
   "id": "97571acc",
   "metadata": {
    "id": "97571acc"
   },
   "outputs": [],
   "source": [
    "# NUM_LAYERS = 4\n",
    "# NUM_GPUS = 1\n",
    "# HIDDEN_SIZE = 1024\n",
    "# NUM_ATTENTION_HEADS = 16\n",
    "# SEQ_LENGTH = 1024\n",
    "# TENSOR_MP_SIZE = 1\n",
    "# PIPELINE_MP_SIZE = 1"
   ]
  },
  {
   "cell_type": "code",
   "execution_count": 26,
   "id": "jC3l03-NlCck",
   "metadata": {
    "id": "jC3l03-NlCck"
   },
   "outputs": [],
   "source": [
    "NUM_LAYERS = 2\n",
    "NUM_GPUS = 1\n",
    "HIDDEN_SIZE = 512\n",
    "NUM_ATTENTION_HEADS = 8\n",
    "SEQ_LENGTH = 512\n",
    "TENSOR_MP_SIZE = 1\n",
    "PIPELINE_MP_SIZE = 1"
   ]
  },
  {
   "cell_type": "markdown",
   "id": "8af66b4a",
   "metadata": {
    "id": "8af66b4a"
   },
   "source": [
    "# 4.Preprocess\n",
    "\n",
    "The loose json above is processed into a binary format for training. To convert the json into mmap, cached index file, we use the `preprocess_data_for_megatron.py` script to prepare the data.\n",
    "\n",
    "\n",
    "Download the python file and run the preprocess. Note we use `30` CPU workers for the preprocessing step. Please adjust it according to your compute environment."
   ]
  },
  {
   "cell_type": "code",
   "execution_count": 27,
   "id": "fccee06c",
   "metadata": {
    "colab": {
     "base_uri": "https://localhost:8080/",
     "height": 35
    },
    "id": "fccee06c",
    "outputId": "c6fc6d8f-aac8-4fdf-d53f-d68ee32c5eee",
    "scrolled": true
   },
   "outputs": [
    {
     "data": {
      "text/plain": [
       "'preprocess_data_for_megatron (1).py'"
      ]
     },
     "execution_count": 27,
     "metadata": {},
     "output_type": "execute_result"
    }
   ],
   "source": [
    "wget.download(f'https://raw.githubusercontent.com/NVIDIA/NeMo/{BRANCH}/scripts/nlp_language_modeling/preprocess_data_for_megatron.py')"
   ]
  },
  {
   "cell_type": "code",
   "execution_count": 28,
   "id": "79de4531",
   "metadata": {
    "colab": {
     "base_uri": "https://localhost:8080/"
    },
    "id": "79de4531",
    "outputId": "3e79a415-05d5-4d53-eb8d-24f245b2eff2"
   },
   "outputs": [
    {
     "name": "stdout",
     "output_type": "stream",
     "text": [
      "Traceback (most recent call last):\n",
      "  File \"preprocess_data_for_megatron.py\", line 93, in <module>\n",
      "    import ftfy\n",
      "ModuleNotFoundError: No module named 'ftfy'\n"
     ]
    }
   ],
   "source": [
    "!python preprocess_data_for_megatron.py \\\n",
    "    --input={CC_OUTPUT_J} \\\n",
    "    --json-keys=text \\\n",
    "    --tokenizer-library=tabular \\\n",
    "    --vocab-file={CC_OUTPUT_P} \\\n",
    "    --tokenizer-type=Tabular \\\n",
    "    --output-prefix=tabular_data \\\n",
    "    --delimiter=, \\\n",
    "    --workers=1\n"
   ]
  },
  {
   "cell_type": "code",
   "execution_count": null,
   "id": "AzphRLOlo7ZZ",
   "metadata": {
    "id": "AzphRLOlo7ZZ"
   },
   "outputs": [],
   "source": [
    "!cp /content/tabular_data_text_document.idx /content/drive/MyDrive/BioMegatron/Synthetic_Data"
   ]
  },
  {
   "cell_type": "code",
   "execution_count": 19,
   "id": "4998ebcb",
   "metadata": {
    "colab": {
     "base_uri": "https://localhost:8080/"
    },
    "id": "4998ebcb",
    "outputId": "0a0db706-d82a-42e1-9fbc-7e06635953cd"
   },
   "outputs": [
    {
     "name": "stdout",
     "output_type": "stream",
     "text": [
      "/content/drive/MyDrive/BioMegatron/Synthetic_Data/tabular_data_text_document.bin\n",
      "/content/drive/MyDrive/BioMegatron/Synthetic_Data/tabular_data_text_document.idx\n"
     ]
    }
   ],
   "source": [
    "!ls $DATA_PATH/tabular*.*"
   ]
  },
  {
   "cell_type": "markdown",
   "id": "6ecec681",
   "metadata": {
    "id": "6ecec681"
   },
   "source": [
    "After running the script, two new files are generated in the current directory: `tabular_data_text_document.bin` and `tabular_data_text_document.idx`. The `bin` file is the `mmap` binary file and the `idx` is the index file to look up the sentences in the binary file. They will be used for the following pre-training step."
   ]
  },
  {
   "cell_type": "markdown",
   "id": "58a3d4fa",
   "metadata": {
    "id": "58a3d4fa"
   },
   "source": [
    "# 5.Pretrain\n",
    "\n",
    "We are ready to pretrain the NeMo GPT model. As large models can be quite difficult to train due to memory constraints, NeMo makes it possible by using both Tensor model parallel and Pipeline model parallelism that enables training transformer models with billions of parameters. On top of the model parallelism, we can apply the popular data parallelism to the training to fully utilize all the GPUs in the cluster. In this [paper](https://arxiv.org/pdf/2104.04473.pdf), it provides a few tips about how to setup the model parallelism and data parallelism optimally:\n",
    "\n",
    "1. When considering different forms of model parallelism, tensor model parallelism should generally be used up to degree 𝑔 when using 𝑔-GPU servers, and then pipeline model parallelism can be used to scale up to larger models across server.\n",
    "2. When using data and model parallelism, a total model-parallel size of 𝑀 = 𝑡 · 𝑝 should be used so that the model’s parameters and intermediate metadata fit in GPU memory; data parallelism can be used to scale up training to more GPUs.\n",
    "3. The optimal microbatch size 𝑏 depends on the throughput and memory footprint characteristics of the model, as well as the pipeline depth 𝑝, data-parallel size 𝑑, and batch size 𝐵.\n",
    "\n",
    "In this tutorial, we only concern with training a model that fits into a single GPU. we set the tensor model parallel and pipeline model parallelism parameter to 1. Feel free to adjust it to train a larger model according to the available compute resources. As we know from OpenAI's [scaling law of natural language](https://arxiv.org/abs/2001.08361), the larger the model, the better the performance is.\n",
    "\n",
    "Download and run the pretraining task script below. Note, this is the most time consuming step. It takes days for the task to converge depending on the computation environment, model size."
   ]
  },
  {
   "cell_type": "code",
   "execution_count": 6,
   "id": "749fd8df",
   "metadata": {
    "colab": {
     "base_uri": "https://localhost:8080/",
     "height": 35
    },
    "id": "749fd8df",
    "outputId": "ed729f0a-f2f3-4d9b-ad93-1794f4e1b350"
   },
   "outputs": [
    {
     "data": {
      "text/plain": [
       "'conf/megatron_gpt_config.yaml'"
      ]
     },
     "execution_count": 6,
     "metadata": {},
     "output_type": "execute_result"
    }
   ],
   "source": [
    "!mkdir -p conf\n",
    "wget.download(f'https://raw.githubusercontent.com/NVIDIA/NeMo/main/examples/nlp/language_modeling/megatron_gpt_pretraining.py')\n",
    "wget.download(f'https://raw.githubusercontent.com/NVIDIA/NeMo/main/examples/nlp/language_modeling/conf/megatron_gpt_config.yaml', out='conf')"
   ]
  },
  {
   "cell_type": "code",
   "execution_count": 21,
   "id": "c7665cee",
   "metadata": {
    "colab": {
     "base_uri": "https://localhost:8080/"
    },
    "id": "c7665cee",
    "outputId": "2573b39c-fa39-4075-8523-d9926ea00dab"
   },
   "outputs": [
    {
     "name": "stdout",
     "output_type": "stream",
     "text": [
      "/usr/local/lib/python3.7/dist-packages/apex/pyprof/__init__.py:5: FutureWarning: pyprof will be removed by the end of June, 2022\n",
      "  warnings.warn(\"pyprof will be removed by the end of June, 2022\", FutureWarning)\n",
      "[NeMo W 2022-07-26 00:19:17 nemo_logging:349] /usr/local/lib/python3.7/dist-packages/resampy/interpn.py:114: NumbaWarning: \u001b[1m\u001b[1mThe TBB threading layer requires TBB version 2019.5 or later i.e., TBB_INTERFACE_VERSION >= 11005. Found TBB_INTERFACE_VERSION = 9107. The TBB threading layer is disabled.\u001b[0m\u001b[0m\n",
      "      _resample_loop_p(x, t_out, interp_win, interp_delta, num_table, scale, y)\n",
      "    \n",
      "[NeMo W 2022-07-26 00:19:27 experimental:28] Module <class 'nemo.collections.nlp.data.language_modeling.megatron.megatron_batch_samplers.MegatronPretrainingRandomBatchSampler'> is experimental, not ready for production and is not fully supported. Use at your own risk.\n",
      "[NeMo W 2022-07-26 00:19:27 experimental:28] Module <class 'nemo.collections.nlp.models.text_normalization_as_tagging.thutmose_tagger.ThutmoseTaggerModel'> is experimental, not ready for production and is not fully supported. Use at your own risk.\n",
      "[NeMo I 2022-07-26 00:19:28 megatron_gpt_pretraining:36] \n",
      "    \n",
      "    ************** Experiment configuration ***********\n",
      "[NeMo I 2022-07-26 00:19:28 megatron_gpt_pretraining:37] \n",
      "    name: megatron_gpt\n",
      "    restore_from_path: null\n",
      "    trainer:\n",
      "      devices: 1\n",
      "      num_nodes: 1\n",
      "      accelerator: gpu\n",
      "      precision: 16\n",
      "      logger: false\n",
      "      enable_checkpointing: false\n",
      "      replace_sampler_ddp: false\n",
      "      max_epochs: 1000\n",
      "      max_steps: 10000\n",
      "      log_every_n_steps: 100\n",
      "      val_check_interval: 500\n",
      "      limit_val_batches: 50\n",
      "      limit_test_batches: 500\n",
      "      accumulate_grad_batches: 1\n",
      "      gradient_clip_val: 1.0\n",
      "      benchmark: false\n",
      "    exp_manager:\n",
      "      explicit_log_dir: null\n",
      "      exp_dir: gpt_creditcard_results\n",
      "      name: megatron_gpt\n",
      "      create_wandb_logger: false\n",
      "      wandb_logger_kwargs:\n",
      "        project: null\n",
      "        name: null\n",
      "      resume_if_exists: true\n",
      "      resume_ignore_no_checkpoint: true\n",
      "      create_checkpoint_callback: true\n",
      "      checkpoint_callback_params:\n",
      "        monitor: val_loss\n",
      "        save_top_k: 10\n",
      "        mode: min\n",
      "        always_save_nemo: false\n",
      "        save_nemo_on_train_end: false\n",
      "        filename: megatron_gpt--{val_loss:.2f}-{step}-{consumed_samples}\n",
      "        model_parallel_size: ${multiply:${model.tensor_model_parallel_size}, ${model.pipeline_model_parallel_size}}\n",
      "    model:\n",
      "      micro_batch_size: 4\n",
      "      global_batch_size: 8\n",
      "      tensor_model_parallel_size: 1\n",
      "      pipeline_model_parallel_size: 1\n",
      "      resume_from_checkpoint: null\n",
      "      encoder_seq_length: 512\n",
      "      max_position_embeddings: 512\n",
      "      num_layers: 2\n",
      "      hidden_size: 512\n",
      "      ffn_hidden_size: 3072\n",
      "      num_attention_heads: 8\n",
      "      init_method_std: 0.02\n",
      "      hidden_dropout: 0.1\n",
      "      kv_channels: null\n",
      "      apply_query_key_layer_scaling: true\n",
      "      layernorm_epsilon: 1.0e-05\n",
      "      make_vocab_size_divisible_by: 128\n",
      "      pre_process: true\n",
      "      post_process: true\n",
      "      persist_layer_norm: true\n",
      "      grad_div_ar_fusion: true\n",
      "      tokenizer:\n",
      "        library: tabular\n",
      "        type: Tabular\n",
      "        model: null\n",
      "        vocab_file: /content/drive/MyDrive/BioMegatron/Synthetic_Data/credit_card_coder.pickle\n",
      "        merge_file: null\n",
      "        delimiter: ','\n",
      "      native_amp_init_scale: 4294967296\n",
      "      native_amp_growth_interval: 1000\n",
      "      hysteresis: 2\n",
      "      fp32_residual_connection: false\n",
      "      fp16_lm_cross_entropy: false\n",
      "      megatron_amp_O2: false\n",
      "      grad_allreduce_chunk_size_mb: 125\n",
      "      seed: 1234\n",
      "      use_cpu_initialization: false\n",
      "      onnx_safe: false\n",
      "      apex_transformer_log_level: 30\n",
      "      gradient_as_bucket_view: true\n",
      "      activations_checkpoint_method: block\n",
      "      activations_checkpoint_num_layers: 1\n",
      "      data:\n",
      "        data_prefix:\n",
      "        - tabular_data_text_document\n",
      "        index_mapping_dir: null\n",
      "        data_impl: mmap\n",
      "        splits_string: 3800,198,2\n",
      "        seq_length: 512\n",
      "        skip_warmup: true\n",
      "        num_workers: 2\n",
      "        dataloader_type: single\n",
      "        reset_position_ids: false\n",
      "        reset_attention_mask: false\n",
      "        eod_mask_loss: true\n",
      "      nsys_profile:\n",
      "        enabled: false\n",
      "        start_step: 10\n",
      "        end_step: 10\n",
      "        ranks:\n",
      "        - 0\n",
      "        gen_shape: false\n",
      "      optim:\n",
      "        name: fused_adam\n",
      "        lr: 0.0002\n",
      "        weight_decay: 0.01\n",
      "        betas:\n",
      "        - 0.9\n",
      "        - 0.98\n",
      "        sched:\n",
      "          name: CosineAnnealing\n",
      "          warmup_steps: 2\n",
      "          constant_steps: 2\n",
      "          min_lr: 8.0e-05\n",
      "    \n",
      "[NeMo W 2022-07-26 00:19:28 nemo_logging:349] /usr/local/lib/python3.7/dist-packages/pytorch_lightning/plugins/training_type/ddp.py:21: LightningDeprecationWarning: The `pl.plugins.training_type.ddp.DDPPlugin` is deprecated in v1.6 and will be removed in v1.8. Use `pl.strategies.ddp.DDPStrategy` instead.\n",
      "      \"The `pl.plugins.training_type.ddp.DDPPlugin` is deprecated in v1.6 and will be removed in v1.8.\"\n",
      "    \n",
      "[NeMo W 2022-07-26 00:19:28 nemo_logging:349] /usr/local/lib/python3.7/dist-packages/pytorch_lightning/trainer/connectors/accelerator_connector.py:318: LightningDeprecationWarning: Passing <nemo.collections.nlp.parts.nlp_overrides.NLPDDPPlugin object at 0x7f42d5865310> `strategy` to the `plugins` flag in Trainer has been deprecated in v1.5 and will be removed in v1.7. Use `Trainer(strategy=<nemo.collections.nlp.parts.nlp_overrides.NLPDDPPlugin object at 0x7f42d5865310>)` instead.\n",
      "      f\"Passing {plugin} `strategy` to the `plugins` flag in Trainer has been deprecated\"\n",
      "    \n",
      "GPU available: True, used: True\n",
      "TPU available: False, using: 0 TPU cores\n",
      "IPU available: False, using: 0 IPUs\n",
      "HPU available: False, using: 0 HPUs\n",
      "[NeMo W 2022-07-26 00:19:28 exp_manager:571] No version folders would be created under the log folder as 'resume_if_exists' is enabled.\n",
      "[NeMo W 2022-07-26 00:19:28 exp_manager:423] There was no checkpoint folder at checkpoint_dir :gpt_creditcard_results/megatron_gpt/checkpoints. Training from scratch.\n",
      "[NeMo I 2022-07-26 00:19:28 exp_manager:286] Experiments will be logged at gpt_creditcard_results/megatron_gpt\n",
      "[NeMo I 2022-07-26 00:19:28 exp_manager:660] TensorboardLogger has been set up\n",
      "[NeMo W 2022-07-26 00:19:28 nemo_logging:349] /usr/local/lib/python3.7/dist-packages/pytorch_lightning/trainer/trainer.py:2319: LightningDeprecationWarning: `Trainer.weights_save_path` has been deprecated in v1.6 and will be removed in v1.8.\n",
      "      rank_zero_deprecation(\"`Trainer.weights_save_path` has been deprecated in v1.6 and will be removed in v1.8.\")\n",
      "    \n",
      "[NeMo W 2022-07-26 00:19:28 exp_manager:900] The checkpoint callback was told to monitor a validation value and trainer's max_steps was set to 10000. Please ensure that max_steps will run for at least 1 epochs to ensure that checkpointing will not error out.\n",
      "[NeMo I 2022-07-26 00:19:28 megatron_gpt_pretraining:74] Resuming training from checkpoint: None\n",
      "Created a temporary directory at /tmp/tmpldrbvslt\n",
      "Writing /tmp/tmpldrbvslt/_remote_module_non_scriptable.py\n",
      "[NeMo I 2022-07-26 00:19:28 megatron_init:204] Rank 0 has data parallel group: [0]\n",
      "[NeMo I 2022-07-26 00:19:28 megatron_init:207] All data parallel group ranks: [[0]]\n",
      "[NeMo I 2022-07-26 00:19:28 megatron_init:208] Ranks 0 has data parallel rank: 0\n",
      "[NeMo I 2022-07-26 00:19:28 megatron_init:216] Rank 0 has model parallel group: [0]\n",
      "[NeMo I 2022-07-26 00:19:28 megatron_init:217] All model parallel group ranks: [[0]]\n",
      "[NeMo I 2022-07-26 00:19:28 megatron_init:227] Rank 0 has tensor model parallel group: [0]\n",
      "[NeMo I 2022-07-26 00:19:28 megatron_init:231] All tensor model parallel group ranks: [[0]]\n",
      "[NeMo I 2022-07-26 00:19:28 megatron_init:232] Rank 0 has tensor model parallel rank: 0\n",
      "[NeMo I 2022-07-26 00:19:28 megatron_init:246] Rank 0 has pipeline model parallel group: [0]\n",
      "[NeMo I 2022-07-26 00:19:28 megatron_init:258] Rank 0 has embedding group: [0]\n",
      "[NeMo I 2022-07-26 00:19:28 megatron_init:264] All pipeline model parallel group ranks: [[0]]\n",
      "[NeMo I 2022-07-26 00:19:28 megatron_init:265] Rank 0 has pipeline model parallel rank 0\n",
      "[NeMo I 2022-07-26 00:19:28 megatron_init:266] All embedding group ranks: [[0]]\n",
      "[NeMo I 2022-07-26 00:19:28 megatron_init:267] Rank 0 has embedding rank: 0\n",
      "22-07-26 00:19:28 - PID:2038 - rank:(0, 0, 0, 0) - microbatches.py:41 - INFO - setting number of micro-batches to constant 2\n",
      "[NeMo W 2022-07-26 00:19:28 modelPT:218] You tried to register an artifact under config key=tokenizer.vocab_file but an artifact for it has already been registered.\n",
      "[NeMo I 2022-07-26 00:19:28 megatron_base_model:163] Padded vocab_size: 10368, original vocab_size: 10287, dummy tokens: 81.\n",
      "[NeMo W 2022-07-26 00:19:35 nemo_logging:349] /usr/local/lib/python3.7/dist-packages/pytorch_lightning/trainer/configuration_validator.py:318: LightningDeprecationWarning: The `LightningModule.on_pretrain_routine_start` hook was deprecated in v1.6 and will be removed in v1.8. Please use `LightningModule.on_fit_start` instead.\n",
      "      f\"The `LightningModule.{hook}` hook was deprecated in v1.6 and\"\n",
      "    \n",
      "Initializing distributed: GLOBAL_RANK: 0, MEMBER: 1/1\n",
      "Added key: store_based_barrier_key:1 to store for rank: 0\n",
      "Rank 0: Completed store-based barrier for key:store_based_barrier_key:1 with 1 nodes.\n",
      "----------------------------------------------------------------------------------------------------\n",
      "distributed_backend=nccl\n",
      "All distributed processes registered. Starting with 1 processes\n",
      "----------------------------------------------------------------------------------------------------\n",
      "\n",
      "Added key: store_based_barrier_key:2 to store for rank: 0\n",
      "Rank 0: Completed store-based barrier for key:store_based_barrier_key:2 with 1 nodes.\n",
      "Added key: store_based_barrier_key:3 to store for rank: 0\n",
      "Rank 0: Completed store-based barrier for key:store_based_barrier_key:3 with 1 nodes.\n",
      "Added key: store_based_barrier_key:4 to store for rank: 0\n",
      "Rank 0: Completed store-based barrier for key:store_based_barrier_key:4 with 1 nodes.\n",
      "Added key: store_based_barrier_key:5 to store for rank: 0\n",
      "Rank 0: Completed store-based barrier for key:store_based_barrier_key:5 with 1 nodes.\n",
      "Added key: store_based_barrier_key:6 to store for rank: 0\n",
      "Rank 0: Completed store-based barrier for key:store_based_barrier_key:6 with 1 nodes.\n",
      "Added key: store_based_barrier_key:7 to store for rank: 0\n",
      "Rank 0: Completed store-based barrier for key:store_based_barrier_key:7 with 1 nodes.\n",
      "[NeMo I 2022-07-26 00:19:35 megatron_gpt_model:462] Building GPT datasets.\n",
      "[NeMo I 2022-07-26 00:19:35 gpt_dataset:175]  > building dataset index ...\n",
      "[NeMo I 2022-07-26 00:19:35 indexed_dataset:424]     reading sizes...\n",
      "[NeMo I 2022-07-26 00:19:35 indexed_dataset:426]     reading pointers...\n",
      "[NeMo I 2022-07-26 00:19:35 indexed_dataset:430]     reading document index...\n",
      "[NeMo I 2022-07-26 00:19:35 indexed_dataset:483]     creating numpy buffer of mmap...\n",
      "[NeMo I 2022-07-26 00:19:35 indexed_dataset:485]     creating memory view of numpy buffer...\n",
      "[NeMo I 2022-07-26 00:19:35 gpt_dataset:179]  > finished creating indexed dataset in 0.000688 seconds\n",
      "[NeMo I 2022-07-26 00:19:35 gpt_dataset:180]     number of documents: 80\n",
      "[NeMo I 2022-07-26 00:19:35 gpt_dataset:135]  > dataset split:\n",
      "[NeMo I 2022-07-26 00:19:35 gpt_dataset:138]     train:\n",
      "[NeMo I 2022-07-26 00:19:35 gpt_dataset:141]      document indices in [0, 76) total of 76 documents\n",
      "[NeMo I 2022-07-26 00:19:35 gpt_dataset:138]     validation:\n",
      "[NeMo I 2022-07-26 00:19:35 gpt_dataset:141]      document indices in [76, 80) total of 4 documents\n",
      "[NeMo I 2022-07-26 00:19:35 gpt_dataset:138]     test:\n",
      "[NeMo I 2022-07-26 00:19:35 gpt_dataset:141]      document indices in [80, 80) total of 0 documents\n",
      "[NeMo I 2022-07-26 00:19:35 gpt_dataset:361]  > WARNING: could not find index map files, building the indices on rank 0 ...\n",
      " > last epoch number of samples (7023) is smaller than 80% of number of samples per epoch (36488), setting separate_last_epoch to True\n",
      "[NeMo I 2022-07-26 00:19:35 gpt_dataset:406]  > elasped time to build and save doc-idx mapping (seconds): 0.000425\n",
      "make: Entering directory '/usr/local/lib/python3.7/dist-packages/nemo/collections/nlp/data/language_modeling/megatron'\n",
      "g++ -O3 -Wall -shared -std=c++11 -fPIC -fdiagnostics-color -I/usr/include/python3.7m -I/usr/local/lib/python3.7/dist-packages/pybind11/include helpers.cpp -o helpers.cpython-36m-x86_64-linux-gnu.so\n",
      "make: Leaving directory '/usr/local/lib/python3.7/dist-packages/nemo/collections/nlp/data/language_modeling/megatron'\n",
      "Error executing job with overrides: ['trainer.devices=1', 'trainer.accelerator=gpu', 'trainer.log_every_n_steps=100', 'trainer.val_check_interval=500', 'trainer.accumulate_grad_batches=1', 'trainer.max_steps=10000', 'trainer.precision=16', 'trainer.gradient_clip_val=1.0', 'exp_manager.exp_dir=gpt_creditcard_results', 'model.tensor_model_parallel_size=1', 'model.pipeline_model_parallel_size=1', 'model.optim.name=fused_adam', 'model.optim.lr=2e-4', 'model.optim.sched.warmup_steps=2', 'model.optim.sched.constant_steps=2', 'model.optim.sched.min_lr=8e-5', 'model.max_position_embeddings=512', 'model.encoder_seq_length=512', 'model.data.seq_length=512', 'model.tokenizer.type=Tabular', 'model.tokenizer.library=tabular', 'model.tokenizer.vocab_file=/content/drive/MyDrive/BioMegatron/Synthetic_Data/credit_card_coder.pickle', \"model.tokenizer.delimiter=','\", 'model.data.eod_mask_loss=True', \"model.data.splits_string='3800,198,2'\", 'model.num_layers=2', 'model.hidden_size=512', 'model.num_attention_heads=8', \"model.activations_checkpoint_method='block'\", 'model.activations_checkpoint_num_layers=1', 'model.data.data_prefix=[tabular_data_text_document]']\n",
      "Traceback (most recent call last):\n",
      "  File \"/usr/local/lib/python3.7/dist-packages/nemo/collections/nlp/data/language_modeling/megatron/gpt_dataset.py\", line 418, in _build_index_mappings\n",
      "    from nemo.collections.nlp.data.language_modeling.megatron import helpers\n",
      "ImportError: cannot import name 'helpers' from 'nemo.collections.nlp.data.language_modeling.megatron' (/usr/local/lib/python3.7/dist-packages/nemo/collections/nlp/data/language_modeling/megatron/__init__.py)\n",
      "\n",
      "During handling of the above exception, another exception occurred:\n",
      "\n",
      "Traceback (most recent call last):\n",
      "  File \"megatron_gpt_pretraining.py\", line 88, in main\n",
      "    trainer.fit(model)\n",
      "  File \"/usr/local/lib/python3.7/dist-packages/pytorch_lightning/trainer/trainer.py\", line 771, in fit\n",
      "    self._fit_impl, model, train_dataloaders, val_dataloaders, datamodule, ckpt_path\n",
      "  File \"/usr/local/lib/python3.7/dist-packages/pytorch_lightning/trainer/trainer.py\", line 721, in _call_and_handle_interrupt\n",
      "    return self.strategy.launcher.launch(trainer_fn, *args, trainer=self, **kwargs)\n",
      "  File \"/usr/local/lib/python3.7/dist-packages/pytorch_lightning/strategies/launchers/subprocess_script.py\", line 93, in launch\n",
      "    return function(*args, **kwargs)\n",
      "  File \"/usr/local/lib/python3.7/dist-packages/pytorch_lightning/trainer/trainer.py\", line 811, in _fit_impl\n",
      "    results = self._run(model, ckpt_path=self.ckpt_path)\n",
      "  File \"/usr/local/lib/python3.7/dist-packages/pytorch_lightning/trainer/trainer.py\", line 1174, in _run\n",
      "    self._call_setup_hook()  # allow user to setup lightning_module in accelerator environment\n",
      "  File \"/usr/local/lib/python3.7/dist-packages/pytorch_lightning/trainer/trainer.py\", line 1494, in _call_setup_hook\n",
      "    self._call_lightning_module_hook(\"setup\", stage=fn)\n",
      "  File \"/usr/local/lib/python3.7/dist-packages/pytorch_lightning/trainer/trainer.py\", line 1595, in _call_lightning_module_hook\n",
      "    output = fn(*args, **kwargs)\n",
      "  File \"/usr/local/lib/python3.7/dist-packages/nemo/collections/nlp/models/language_modeling/megatron_gpt_model.py\", line 558, in setup\n",
      "    self.build_train_valid_test_datasets()\n",
      "  File \"/usr/local/lib/python3.7/dist-packages/nemo/collections/nlp/models/language_modeling/megatron_gpt_model.py\", line 483, in build_train_valid_test_datasets\n",
      "    tokenizer=self.tokenizer,\n",
      "  File \"/usr/local/lib/python3.7/dist-packages/nemo/collections/nlp/data/language_modeling/megatron/gpt_dataset.py\", line 68, in build_train_valid_test_datasets\n",
      "    tokenizer,\n",
      "  File \"/usr/local/lib/python3.7/dist-packages/nemo/collections/nlp/data/language_modeling/megatron/gpt_dataset.py\", line 166, in _build_train_valid_test_datasets\n",
      "    train_dataset = build_dataset(0, 'train')\n",
      "  File \"/usr/local/lib/python3.7/dist-packages/nemo/collections/nlp/data/language_modeling/megatron/gpt_dataset.py\", line 162, in build_dataset\n",
      "    seed,\n",
      "  File \"/usr/local/lib/python3.7/dist-packages/nemo/collections/nlp/data/language_modeling/megatron/gpt_dataset.py\", line 226, in __init__\n",
      "    index_mapping_dir=self.index_mapping_dir,\n",
      "  File \"/usr/local/lib/python3.7/dist-packages/nemo/collections/nlp/data/language_modeling/megatron/gpt_dataset.py\", line 421, in _build_index_mappings\n",
      "    f'Could not compile megatron dataset C++ helper functions and therefore cannot import helpers python file.'\n",
      "ImportError: Could not compile megatron dataset C++ helper functions and therefore cannot import helpers python file.\n",
      "\n",
      "Set the environment variable HYDRA_FULL_ERROR=1 for a complete stack trace.\n",
      "\u001b[0m"
     ]
    }
   ],
   "source": [
    "!python megatron_gpt_pretraining.py \\\n",
    "        trainer.devices={NUM_GPUS} \\\n",
    "        trainer.accelerator=gpu \\\n",
    "        trainer.log_every_n_steps=100 \\\n",
    "        trainer.val_check_interval=500 \\\n",
    "        trainer.accumulate_grad_batches=1 \\\n",
    "        trainer.max_steps=10000 \\\n",
    "        trainer.precision=16 \\\n",
    "        trainer.gradient_clip_val=1.0 \\\n",
    "        exp_manager.exp_dir=gpt_creditcard_results \\\n",
    "        model.tensor_model_parallel_size={TENSOR_MP_SIZE} \\\n",
    "        model.pipeline_model_parallel_size={PIPELINE_MP_SIZE} \\\n",
    "        model.optim.name=fused_adam \\\n",
    "        model.optim.lr=2e-4 \\\n",
    "        model.optim.sched.warmup_steps=2 \\\n",
    "        model.optim.sched.constant_steps=2 \\\n",
    "        model.optim.sched.min_lr=8e-5 \\\n",
    "        model.max_position_embeddings={SEQ_LENGTH} \\\n",
    "        model.encoder_seq_length={SEQ_LENGTH} \\\n",
    "        model.data.seq_length={SEQ_LENGTH} \\\n",
    "        model.tokenizer.type=Tabular \\\n",
    "        model.tokenizer.library=tabular \\\n",
    "        model.tokenizer.vocab_file={CC_OUTPUT_P} \\\n",
    "        model.tokenizer.delimiter=\\',\\' \\\n",
    "        model.data.eod_mask_loss=True \\\n",
    "        model.data.splits_string=\\'3800,198,2\\' \\\n",
    "        model.num_layers={NUM_LAYERS} \\\n",
    "        model.hidden_size={HIDDEN_SIZE} \\\n",
    "        model.num_attention_heads={NUM_ATTENTION_HEADS} \\\n",
    "        model.activations_checkpoint_method=\\'block\\' \\\n",
    "        model.activations_checkpoint_num_layers=1 \\\n",
    "        model.data.data_prefix=[tabular_data_text_document]\n"
   ]
  },
  {
   "cell_type": "markdown",
   "id": "45ac928f",
   "metadata": {
    "id": "45ac928f"
   },
   "source": [
    "The pretraining will save the checkpoint files periodically at the location specified by `exp_manager.exp_dir`. In this case, it creates a directory called `gpt_creditcard_results`. The number `trainer.val_check_interval` controls the frequency of validation evaluation. We use 500 in this example. The trainer will preserve the checkpoint files which have the top `k` best validation error, by default, `k=10`. \n",
    "While the training job is running, we can use the `tensorboard` to monitor the training. For example, you can run this command and check the learning curves at browser.\n",
    "```bash\n",
    "--logdir gpt_creditcard_results/ --bind_all 0.0.0.0\n",
    "```\n",
    "\n",
    "Once the training converges, we take a checkpoint file which has the smallest validation error."
   ]
  },
  {
   "cell_type": "markdown",
   "id": "158a4bbe",
   "metadata": {
    "id": "158a4bbe"
   },
   "source": [
    "# 6.Convert checkpoint to nemo file\n",
    "\n",
    "NeMo library package the checkpoint file and other model artifacts (like model config file and vocab file) into a single `.nemo` file. It makes the process of loading GPT model and running inference easier. \n",
    "\n",
    "Let's download the script and convert the checkpoint file into `.nemo` file. Make sure to change the checkpoint file name to the correct name. You can find them in the `gpt_creditcard_results/megatron_gpt/checkpoints/ ` directory."
   ]
  },
  {
   "cell_type": "code",
   "execution_count": 53,
   "id": "46cecf96",
   "metadata": {
    "colab": {
     "base_uri": "https://localhost:8080/",
     "height": 35
    },
    "id": "46cecf96",
    "outputId": "4f2515ec-f107-47e0-991d-1d3e3d7b831c"
   },
   "outputs": [
    {
     "data": {
      "text/plain": [
       "'megatron_ckpt_to_nemo.py'"
      ]
     },
     "execution_count": 53,
     "metadata": {},
     "output_type": "execute_result"
    }
   ],
   "source": [
    "wget.download(f'https://raw.githubusercontent.com/NVIDIA/NeMo/{BRANCH}/examples/nlp/language_modeling/megatron_ckpt_to_nemo.py')"
   ]
  },
  {
   "cell_type": "code",
   "execution_count": null,
   "id": "cd7fd084",
   "metadata": {
    "colab": {
     "base_uri": "https://localhost:8080/"
    },
    "id": "cd7fd084",
    "outputId": "a78583cb-e780-445a-8a21-da3edb2a7eb3"
   },
   "outputs": [
    {
     "name": "stdout",
     "output_type": "stream",
     "text": [
      "/usr/local/lib/python3.7/dist-packages/torch/distributed/launch.py:186: FutureWarning: The module torch.distributed.launch is deprecated\n",
      "and will be removed in future. Use torchrun.\n",
      "Note that --use_env is set by default in torchrun.\n",
      "If your script expects `--local_rank` argument to be set, please\n",
      "change it to read from `os.environ['LOCAL_RANK']` instead. See \n",
      "https://pytorch.org/docs/stable/distributed.html#launch-utility for \n",
      "further instructions\n",
      "\n",
      "  FutureWarning,\n",
      "[NeMo W 2022-07-07 22:46:12 experimental:28] Module <class 'nemo.collections.nlp.data.language_modeling.megatron.megatron_batch_samplers.MegatronPretrainingRandomBatchSampler'> is experimental, not ready for production and is not fully supported. Use at your own risk.\n",
      "[NeMo W 2022-07-07 22:46:12 experimental:28] Module <class 'nemo.collections.nlp.models.text_normalization_as_tagging.thutmose_tagger.ThutmoseTaggerModel'> is experimental, not ready for production and is not fully supported. Use at your own risk.\n",
      "[NeMo I 2022-07-07 22:46:12 distributed:32] Initializing torch.distributed with local_rank: 0, rank: 0, world_size: 1\n",
      "[NeMo W 2022-07-07 22:46:12 nemo_logging:349] /usr/local/lib/python3.7/dist-packages/pytorch_lightning/loops/utilities.py:94: PossibleUserWarning: `max_epochs` was not set. Setting it to 1000 epochs. To train without an epoch limit, set `max_epochs=-1`.\n",
      "      category=PossibleUserWarning,\n",
      "    \n",
      "GPU available: True, used: True\n",
      "TPU available: False, using: 0 TPU cores\n",
      "IPU available: False, using: 0 IPUs\n",
      "HPU available: False, using: 0 HPUs\n",
      "[NeMo I 2022-07-07 22:46:12 megatron_ckpt_to_nemo:112] rank: 0, local_rank: 0, is loading checkpoint: gpt_creditcard_results/megatron_gpt/checkpoints/megatron_gpt--val_loss=1.17-step=10047-consumed_samples=80376.0-last.ckpt for tp_rank: 0 and pp_rank: 0\n",
      "Traceback (most recent call last):\n",
      "  File \"megatron_ckpt_to_nemo.py\", line 144, in <module>\n",
      "    convert(local_rank, rank, world_size, args)\n",
      "  File \"megatron_ckpt_to_nemo.py\", line 116, in convert\n",
      "    model = MegatronGPTModel.load_from_checkpoint(checkpoint_path, hparams_file=args.hparams_file, trainer=trainer)\n",
      "  File \"/usr/local/lib/python3.7/dist-packages/nemo/collections/nlp/models/nlp_model.py\", line 317, in load_from_checkpoint\n",
      "    checkpoint = pl_load(checkpoint_path, map_location=lambda storage, loc: storage)\n",
      "  File \"/usr/local/lib/python3.7/dist-packages/pytorch_lightning/utilities/cloud_io.py\", line 46, in load\n",
      "    with fs.open(path_or_url, \"rb\") as f:\n",
      "  File \"/usr/local/lib/python3.7/dist-packages/fsspec/spec.py\", line 1043, in open\n",
      "    **kwargs,\n",
      "  File \"/usr/local/lib/python3.7/dist-packages/fsspec/implementations/local.py\", line 159, in _open\n",
      "    return LocalFileOpener(path, mode, fs=self, **kwargs)\n",
      "  File \"/usr/local/lib/python3.7/dist-packages/fsspec/implementations/local.py\", line 254, in __init__\n",
      "    self._open()\n",
      "  File \"/usr/local/lib/python3.7/dist-packages/fsspec/implementations/local.py\", line 259, in _open\n",
      "    self.f = open(self.path, mode=self.mode)\n",
      "FileNotFoundError: [Errno 2] No such file or directory: '/content/gpt_creditcard_results/megatron_gpt/checkpoints/megatron_gpt--val_loss=1.17-step=10047-consumed_samples=80376.0-last.ckpt'\n",
      "\u001b[0mERROR:torch.distributed.elastic.multiprocessing.api:failed (exitcode: 1) local_rank: 0 (pid: 4049) of binary: /usr/bin/python3\n",
      "Traceback (most recent call last):\n",
      "  File \"/usr/lib/python3.7/runpy.py\", line 193, in _run_module_as_main\n",
      "    \"__main__\", mod_spec)\n",
      "  File \"/usr/lib/python3.7/runpy.py\", line 85, in _run_code\n",
      "    exec(code, run_globals)\n",
      "  File \"/usr/local/lib/python3.7/dist-packages/torch/distributed/launch.py\", line 193, in <module>\n",
      "    main()\n",
      "  File \"/usr/local/lib/python3.7/dist-packages/torch/distributed/launch.py\", line 189, in main\n",
      "    launch(args)\n",
      "  File \"/usr/local/lib/python3.7/dist-packages/torch/distributed/launch.py\", line 174, in launch\n",
      "    run(args)\n",
      "  File \"/usr/local/lib/python3.7/dist-packages/torch/distributed/run.py\", line 718, in run\n",
      "    )(*cmd_args)\n",
      "  File \"/usr/local/lib/python3.7/dist-packages/torch/distributed/launcher/api.py\", line 131, in __call__\n",
      "    return launch_agent(self._config, self._entrypoint, list(args))\n",
      "  File \"/usr/local/lib/python3.7/dist-packages/torch/distributed/launcher/api.py\", line 247, in launch_agent\n",
      "    failures=result.failures,\n",
      "torch.distributed.elastic.multiprocessing.errors.ChildFailedError: \n",
      "============================================================\n",
      "megatron_ckpt_to_nemo.py FAILED\n",
      "------------------------------------------------------------\n",
      "Failures:\n",
      "  <NO_OTHER_FAILURES>\n",
      "------------------------------------------------------------\n",
      "Root Cause (first observed failure):\n",
      "[0]:\n",
      "  time      : 2022-07-07_22:46:16\n",
      "  host      : 9fae691cbe25\n",
      "  rank      : 0 (local_rank: 0)\n",
      "  exitcode  : 1 (pid: 4049)\n",
      "  error_file: <N/A>\n",
      "  traceback : To enable traceback see: https://pytorch.org/docs/stable/elastic/errors.html\n",
      "============================================================\n"
     ]
    }
   ],
   "source": [
    "CHECKPONT_FILE_NAME = 'megatron_gpt--val_loss=1.17-step=10047-consumed_samples=80376.0-last.ckpt' # change it to your checkpoint file name\n",
    "!python -m torch.distributed.launch --nproc_per_node=1 megatron_ckpt_to_nemo.py \\\n",
    "    --checkpoint_folder=cohort_results/megatron_gpt/checkpoints/ \\\n",
    "    --checkpoint_name='megatron_gpt--val_loss=0.09-step=100000-consumed_samples=800000.0.ckpt' \\\n",
    "    --nemo_file_path=Cohort_Modify_tabular.nemo \\\n",
    "    --tensor_model_parallel_size=1 \\\n",
    "    --pipeline_model_parallel_size=1 \\\n",
    "    --gpus_per_node=1 \\\n",
    "    --model_type=gpt"
   ]
  },
  {
   "cell_type": "markdown",
   "id": "fa16378e",
   "metadata": {
    "id": "fa16378e"
   },
   "source": [
    "After running this script, it creates a `tabular.nemo` file which can be used to generate synthetic credit card transactions. "
   ]
  },
  {
   "cell_type": "markdown",
   "id": "ed056ec6",
   "metadata": {
    "id": "ed056ec6"
   },
   "source": [
    "# 7.Generate synthetic credit card transactions\n",
    "\n",
    "We come to the last step of this tutorial - generate synthetic credit card transactions!\n",
    "\n",
    "First let's load the trained model weights, put the NeMo GPT in inference mode and start the text generation server. All of these can be done by running the `megatron_gpt_eval.py` script. \n",
    "\n",
    "Let's download the script and configuration file."
   ]
  },
  {
   "cell_type": "code",
   "execution_count": 54,
   "id": "59ab7c9b",
   "metadata": {
    "colab": {
     "base_uri": "https://localhost:8080/",
     "height": 35
    },
    "id": "59ab7c9b",
    "outputId": "09b0eb88-6eef-4a0b-8c48-f86303206d73"
   },
   "outputs": [
    {
     "data": {
      "text/plain": [
       "'conf/megatron_gpt_inference.yaml'"
      ]
     },
     "execution_count": 54,
     "metadata": {},
     "output_type": "execute_result"
    }
   ],
   "source": [
    "wget.download(f'https://raw.githubusercontent.com/NVIDIA/NeMo/{BRANCH}/examples/nlp/language_modeling/megatron_gpt_eval.py')\n",
    "wget.download(f'https://raw.githubusercontent.com/NVIDIA/NeMo/{BRANCH}/examples/nlp/language_modeling/conf/megatron_gpt_inference.yaml', out='conf')"
   ]
  },
  {
   "cell_type": "markdown",
   "id": "a62b48dc",
   "metadata": {
    "id": "a62b48dc"
   },
   "source": [
    "Open another Jupyter notebook or terminal, and run the following in a cell. \n",
    "```python\n",
    "!python megatron_gpt_eval.py \\\n",
    "    gpt_model_file=tabular.nemo \\\n",
    "    prompts=[\\'\\',\\'\\'] \\\n",
    "    server=True\n",
    "```\n",
    "The text generation server accepts REST API request to send the generated text in the response. Let's use the following Python code to generate some transactions."
   ]
  },
  {
   "cell_type": "code",
   "execution_count": 26,
   "id": "ebd6f637",
   "metadata": {
    "colab": {
     "base_uri": "https://localhost:8080/",
     "height": 728
    },
    "id": "ebd6f637",
    "outputId": "1461686b-8126-4ceb-885a-50d3e4ce75c7"
   },
   "outputs": [
    {
     "name": "stdout",
     "output_type": "stream",
     "text": [
      "{'sentences': [''], 'tokens_to_generate': 635, 'temperature': 1.0, 'add_BOS': True}\n",
      "sen ['<|endoftext|>2009,7,3,2009,7,3,2009,7,3,1,1,1,1,0,0,0,0.00000000,Hudson County_ New Jersey,0.49999999,0.00948468,Hudson,0,0,1,0,0.00662348,0,0,0.00000000,0.00118016,0.00000000,0,0,0,997.85564644,0,0,4.83223659,0.01000000,0,0,0.00606622,0.01194711,382.14268084,0,NJ,0.00016825,0,0.04028550,NEW JERSEY,0.00000000,0.00104126,0.00000000,0.05590414,0.00000000,0.04284015,919.89999601,0,0,0.00000000,0.00000000,0,0.00000000,0,59.99999915,0.19854241,1513.99998066,0,0.00000000,0,1.63537937,0.00000000,1,0,0,17.69999975,0,0,0.00000000,0.03637620,0.00000000,0.23161238,0.02055448,0,-0.00000000,0.52120000,0.00000000,0.00639999,0,0,0,0,0.00344984,74.99999975,0,0.00012321,16.44639380,0,0.00000000,0.00000000,1.12716195,0.00155581,0,0.00453193,0.00000000,0.40000000,0.00369626,0.00000000,0\\n']\n",
      "<|endoftext|>2009,7,3,2009,7,3,2009,7,3,1,1,1,1,0,0,0,0.00000000,Hudson County_ New Jersey,0.49999999,0.00948468,Hudson,0,0,1,0,0.00662348,0,0,0.00000000,0.00118016,0.00000000,0,0,0,997.85564644,0,0,4.83223659,0.01000000,0,0,0.00606622,0.01194711,382.14268084,0,NJ,0.00016825,0,0.04028550,NEW JERSEY,0.00000000,0.00104126,0.00000000,0.05590414,0.00000000,0.04284015,919.89999601,0,0,0.00000000,0.00000000,0,0.00000000,0,59.99999915,0.19854241,1513.99998066,0,0.00000000,0,1.63537937,0.00000000,1,0,0,17.69999975,0,0,0.00000000,0.03637620,0.00000000,0.23161238,0.02055448,0,-0.00000000,0.52120000,0.00000000,0.00639999,0,0,0,0,0.00344984,74.99999975,0,0.00012321,16.44639380,0,0.00000000,0.00000000,1.12716195,0.00155581,0,0.00453193,0.00000000,0.40000000,0.00369626,0.00000000,0\n",
      "\n"
     ]
    }
   ],
   "source": [
    "with open('Cohort_data/HT_Pros_coder.pickle', 'rb') as handle:\n",
    "        cc: ColumnCodes = pickle.load(handle)\n",
    "\n",
    "token_per_rows = sum(cc.sizes) + 1\n",
    "\n",
    "batch_size = 1\n",
    "port_num = 5555\n",
    "num_of_rows = 1\n",
    "headers = {\"Content-Type\": \"application/json\"}\n",
    "\n",
    "\n",
    "def request_data(data):\n",
    "    \n",
    "    resp = requests.put('http://localhost:{}/generate'.format(port_num),\n",
    "                        data=json.dumps(data), headers=headers)\n",
    "    print(data)\n",
    "    sentences = resp.json()['sentences']\n",
    "    return sentences\n",
    "\n",
    "\n",
    "# generate the initial transactions \n",
    "data = {\n",
    "    \"sentences\": [\"\"] * batch_size,\n",
    "    \"tokens_to_generate\": num_of_rows * token_per_rows,\n",
    "    \"temperature\": 1.0,\n",
    "    \"add_BOS\": True\n",
    "}\n",
    "\n",
    "sentences = request_data(data)\n",
    "print('sen',sentences)\n",
    "for i in range(batch_size):\n",
    "    s = sentences[i]\n",
    "    print(s)\n",
    "    "
   ]
  },
  {
   "cell_type": "code",
   "execution_count": 53,
   "id": "98eacba7-457b-4b49-85cb-ecc1079c6124",
   "metadata": {},
   "outputs": [],
   "source": [
    "df_out['drugs_cnt_uniq'] =0"
   ]
  },
  {
   "cell_type": "code",
   "execution_count": 54,
   "id": "79f889ac-8178-4402-9950-962eaf89c684",
   "metadata": {},
   "outputs": [
    {
     "data": {
      "text/plain": [
       "0      0\n",
       "1      0\n",
       "2      0\n",
       "3      0\n",
       "4      0\n",
       "      ..\n",
       "995    0\n",
       "996    0\n",
       "997    0\n",
       "998    0\n",
       "999    0\n",
       "Name: drugs_cnt_uniq, Length: 1000, dtype: int64"
      ]
     },
     "execution_count": 54,
     "metadata": {},
     "output_type": "execute_result"
    }
   ],
   "source": [
    "df_out['drugs_cnt_uniq']"
   ]
  },
  {
   "cell_type": "code",
   "execution_count": 57,
   "id": "a3fb8737-fa25-428f-a9a2-e18396092b5d",
   "metadata": {},
   "outputs": [],
   "source": [
    "df_out.to_csv('synthetic_csv.csv')"
   ]
  },
  {
   "cell_type": "markdown",
   "id": "cccd54d9",
   "metadata": {
    "id": "cccd54d9"
   },
   "source": [
    "The above code only generate `num_of_rows` of transactions starting from the beginning. If longer sequence is needed, we can run the inference conditioned on the past transactions in a sliding window fashion. For example, first it generates [A, B, C, D, E] transactions conditioned on `<|endoftext|>` token. Then, it conditions on [D, E] and generates [D, E, F, G, H]. Once the long sequence comes to the end indicated by `<|endoftext|>`, it will keep generating new transactions for a different user. For example, after generating [X, Y, Z, <|endoftext|>] in the last run, it will generate [Z, <|endoftext|>, A', B', C'] in the next time, where A', B', C' are transactions for a different user and they are not depending on the other users transaction Z.  \n",
    "\n",
    "The following code implements the idea above and can be used to generate massive number of transactions in long sequences. The `history_rows` specifies the number of rows of transactions used as conditional context and `num_of_rows` specify the number of rows of transactions to be generated at a time. It saves all the synthetic credit card transactions in the text files whose file names starts with prefix `synthetic`. You can adjust `number_of_blocks`, `batch_size` parameters to generate more transactions.  "
   ]
  },
  {
   "cell_type": "code",
   "execution_count": 44,
   "id": "e4b80ab0",
   "metadata": {
    "id": "e4b80ab0"
   },
   "outputs": [
    {
     "name": "stdout",
     "output_type": "stream",
     "text": [
      "634\n",
      "1\n",
      "['<|endoftext|>2009,8,5,2009,8,5,2009,8,5,0,0,0,1,0,0,0,0.00000000,DuPage County  Illinois,0.39999999,0.01146859,DuPage,0,0,0,0,0.02411849,0,0,0.00000000,0.00320100,0.00000000,0,0,0,33142.58795002,0,0,38.51639122,0.01263096,0,0,0.00001790,0.04483753,23535.01899925,0,IL,0.00000000,0,0.00027097,ILLINOIS,0.00000000,0.00514994,0.00000000,0.18736810,0.00000000,0.00000000,505.19999700,0,0,0.00000000,0.20474800,0,0.00000000,0,112.99999799,0.70947094,1564.99998712,0,0.00000000,0,6.44739868,0.14987446,0,0,0,7.09999984,0,0,0.00000000,0.02450772,0.00000000,0.62586532,0.03907797,0,0.00000000,0.08629999,0.00000000,0.00639999,20,0,0,0,0.00724985,5.88235274,0,0.00064839,34.50950248,0,0.00000000,0.00000000,0.43256712,0.00094952,0,0.00478976,0.00000000,0.19999999,0.21915005,0.00000430,0\\n2009,9,20,2009,9,20,2009,9,20,0,0,0,1,0,0,0,0.00000000,DuPage County  Illinois,0.39999999,0.01146859,DuPage,0,0,0,0,0.02411849,0,0,0.00000000,0.00320100,0.00000000,0,0,0,33142.58795002,0,0,38.51639122,0.01263096,0,0,0.00001790,0.04483753,23535.01899925,0,IL,0.00000000,0,0.00027097,ILLINOIS,0.00000000,0.00514994,0.00000000,0.18736810,0.00000000,0.00000000,505.19999700,0,0,0.00000000,0.20474800,0,0.00000000,0,112.99999799,0.70947094,1564.99998712,0']\n",
      "Original\n",
      "block id: 0\n"
     ]
    },
    {
     "ename": "KeyError",
     "evalue": "'sentences'",
     "output_type": "error",
     "traceback": [
      "\u001b[0;31m---------------------------------------------------------------------------\u001b[0m",
      "\u001b[0;31mKeyError\u001b[0m                                  Traceback (most recent call last)",
      "Input \u001b[0;32mIn [44]\u001b[0m, in \u001b[0;36m<cell line: 62>\u001b[0;34m()\u001b[0m\n\u001b[1;32m     65\u001b[0m data \u001b[38;5;241m=\u001b[39m {\n\u001b[1;32m     66\u001b[0m     \u001b[38;5;124m\"\u001b[39m\u001b[38;5;124msentences\u001b[39m\u001b[38;5;124m\"\u001b[39m: condition_text,\n\u001b[1;32m     67\u001b[0m     \u001b[38;5;124m\"\u001b[39m\u001b[38;5;124mtokens_to_generate\u001b[39m\u001b[38;5;124m\"\u001b[39m: num_of_rows \u001b[38;5;241m*\u001b[39m (token_per_rows),\n\u001b[1;32m     68\u001b[0m     \u001b[38;5;124m\"\u001b[39m\u001b[38;5;124mtemperature\u001b[39m\u001b[38;5;124m\"\u001b[39m: \u001b[38;5;241m1\u001b[39m,\n\u001b[1;32m     69\u001b[0m     \u001b[38;5;124m\"\u001b[39m\u001b[38;5;124madd_BOS\u001b[39m\u001b[38;5;124m\"\u001b[39m: \u001b[38;5;28;01mFalse\u001b[39;00m\n\u001b[1;32m     70\u001b[0m }\n\u001b[1;32m     71\u001b[0m \u001b[38;5;66;03m#print(data)\u001b[39;00m\n\u001b[0;32m---> 72\u001b[0m sentences \u001b[38;5;241m=\u001b[39m \u001b[43mrequest_data\u001b[49m\u001b[43m(\u001b[49m\u001b[43mdata\u001b[49m\u001b[43m)\u001b[49m\n\u001b[1;32m     74\u001b[0m extra_text \u001b[38;5;241m=\u001b[39m get_extra_text(sentences, history_rows)\n\u001b[1;32m     75\u001b[0m \u001b[38;5;28mprint\u001b[39m(\u001b[38;5;124m'\u001b[39m\u001b[38;5;124mextra_text\u001b[39m\u001b[38;5;124m'\u001b[39m,extra_text)\n",
      "Input \u001b[0;32mIn [44]\u001b[0m, in \u001b[0;36mrequest_data\u001b[0;34m(data)\u001b[0m\n\u001b[1;32m     21\u001b[0m \u001b[38;5;28;01mdef\u001b[39;00m \u001b[38;5;21mrequest_data\u001b[39m(data):\n\u001b[1;32m     22\u001b[0m     resp \u001b[38;5;241m=\u001b[39m requests\u001b[38;5;241m.\u001b[39mput(\u001b[38;5;124m'\u001b[39m\u001b[38;5;124mhttp://localhost:\u001b[39m\u001b[38;5;132;01m{}\u001b[39;00m\u001b[38;5;124m/generate\u001b[39m\u001b[38;5;124m'\u001b[39m\u001b[38;5;241m.\u001b[39mformat(port_num),\n\u001b[1;32m     23\u001b[0m                         data\u001b[38;5;241m=\u001b[39mjson\u001b[38;5;241m.\u001b[39mdumps(data), headers\u001b[38;5;241m=\u001b[39mheaders)\n\u001b[0;32m---> 25\u001b[0m     sentences \u001b[38;5;241m=\u001b[39m \u001b[43mresp\u001b[49m\u001b[38;5;241;43m.\u001b[39;49m\u001b[43mjson\u001b[49m\u001b[43m(\u001b[49m\u001b[43m)\u001b[49m\u001b[43m[\u001b[49m\u001b[38;5;124;43m\"\u001b[39;49m\u001b[38;5;124;43msentences\u001b[39;49m\u001b[38;5;124;43m\"\u001b[39;49m\u001b[43m]\u001b[49m\n\u001b[1;32m     26\u001b[0m     \u001b[38;5;28mprint\u001b[39m(\u001b[38;5;28mlen\u001b[39m(sentences))\n\u001b[1;32m     27\u001b[0m     \u001b[38;5;66;03m# for i in range(len(sentences)):\u001b[39;00m\n\u001b[1;32m     28\u001b[0m     \u001b[38;5;66;03m#     if sentences[i][:13] == '<|endoftext|>':\u001b[39;00m\n\u001b[1;32m     29\u001b[0m     \u001b[38;5;66;03m#         sentences[i] = sentences[i][13:]\u001b[39;00m\n",
      "\u001b[0;31mKeyError\u001b[0m: 'sentences'"
     ]
    }
   ],
   "source": [
    "with open('Cohort_data/HT_Pros_coder.pickle', 'rb') as handle:\n",
    "        cc: ColumnCodes = pickle.load(handle)\n",
    "print(sum(cc.sizes))\n",
    "batch_size = 1\n",
    "num_of_rows = 50\n",
    "token_per_rows = sum(cc.sizes)+1\n",
    "history_rows = 40\n",
    "num_of_blocks = 10\n",
    "\n",
    "port_num = 5555\n",
    "headers = {\"Content-Type\": \"application/json\"}\n",
    "\n",
    "prefix_name = 'synthetic'\n",
    "files = []\n",
    "\n",
    "\n",
    "for i in range(batch_size):\n",
    "    files.append(open(\"{}_{}.txt\".format(prefix_name, i), 'w'))\n",
    "\n",
    "\n",
    "def request_data(data):\n",
    "    resp = requests.put('http://localhost:{}/generate'.format(port_num),\n",
    "                        data=json.dumps(data), headers=headers)\n",
    "    \n",
    "    sentences = resp.json()[\"sentences\"]\n",
    "    print(len(sentences))\n",
    "    # for i in range(len(sentences)):\n",
    "    #     if sentences[i][:13] == '<|endoftext|>':\n",
    "    #         sentences[i] = sentences[i][13:]\n",
    "    return sentences\n",
    "\n",
    "\n",
    "def get_condition_text(sentences, history_rows):\n",
    "    condition_text = ['\\n'.join([ss for ss in s.split(\n",
    "        '\\n')[-(history_rows+1):]]) for s in sentences]\n",
    "    # condition_text = ['<|endoftext|>'.join([ss for ss in s.split(\n",
    "    #      '<|endoftext|>')[-(history_rows+1):]]) for s in sentences]\n",
    "    return condition_text\n",
    "\n",
    "\n",
    "def get_extra_text(sentences, history_rows):\n",
    "    extra_text = ['\\n'.join([ss for ss in s.split(\n",
    "        '\\n')[history_rows:]]) for s in sentences]\n",
    "    return extra_text\n",
    "\n",
    "# generate the inital transactions \n",
    "data = {\n",
    "    \"sentences\": [\"\"] * batch_size,\n",
    "    \"tokens_to_generate\": num_of_rows * token_per_rows,\n",
    "    \"temperature\": 1,\n",
    "    \"add_BOS\": True\n",
    "}\n",
    "\n",
    "sentences = request_data(data)\n",
    "\n",
    "print(sentences)\n",
    "for i in range(batch_size):\n",
    "    s = sentences[i]\n",
    "    files[i].write(s.replace('<|endoftext|>', '\\n'))\n",
    "print('Original')\n",
    "# generate the transactions conditioned on the previous ones\n",
    "for block in range(num_of_blocks):\n",
    "    print(\"block id: {}\".format(block))\n",
    "    condition_text = get_condition_text(sentences, history_rows)\n",
    "    data = {\n",
    "        \"sentences\": condition_text,\n",
    "        \"tokens_to_generate\": num_of_rows * (token_per_rows),\n",
    "        \"temperature\": 1,\n",
    "        \"add_BOS\": False\n",
    "    }\n",
    "    #print(data)\n",
    "    sentences = request_data(data)\n",
    "    \n",
    "    extra_text = get_extra_text(sentences, history_rows)\n",
    "    print('extra_text',extra_text)\n",
    "    for i in range(batch_size):\n",
    "        s = extra_text[i]\n",
    "        files[i].write(s.replace('<|endoftext|>', '\\n---------------\\n'))\n",
    "        files[i].flush()\n",
    "\n",
    "\n",
    "\n",
    "for i in range(batch_size):\n",
    "    files[i].close()\n",
    "    print('done')"
   ]
  },
  {
   "cell_type": "code",
   "execution_count": 87,
   "id": "79c1ee03",
   "metadata": {
    "id": "79c1ee03"
   },
   "outputs": [
    {
     "name": "stdout",
     "output_type": "stream",
     "text": [
      "synthetic_0.txt  synthetic_1.txt  synthetic_2.txt  synthetic_3.txt\n"
     ]
    }
   ],
   "source": [
    "# check the generated creditcard transaction files\n",
    "!ls synthetic*.txt"
   ]
  },
  {
   "cell_type": "markdown",
   "id": "0f2f6e3a",
   "metadata": {
    "id": "0f2f6e3a"
   },
   "source": [
    "That's it! In this tutorial, you have learned how to train a NeMo GPT model to generate synthetic data. Go ahead and apply it for your own data."
   ]
  },
  {
   "cell_type": "markdown",
   "id": "56779a63-966d-4a3e-bce7-7e1e860bb518",
   "metadata": {
    "id": "0f2f6e3a"
   },
   "source": [
    "# Evaluation\n",
    "Here is the coarse grained evaluation, to comput how many rows are copied from the real data"
   ]
  },
  {
   "cell_type": "code",
   "execution_count": null,
   "id": "1fe593cd-0e90-46ba-b01e-466513e84aa1",
   "metadata": {},
   "outputs": [],
   "source": []
  },
  {
   "cell_type": "code",
   "execution_count": 44,
   "id": "72ccfaa2-3df8-48ab-b50a-769d725c4535",
   "metadata": {
    "colab": {
     "base_uri": "https://localhost:8080/",
     "height": 728
    },
    "id": "ebd6f637",
    "outputId": "1461686b-8126-4ceb-885a-50d3e4ce75c7"
   },
   "outputs": [],
   "source": [
    "with open('Cohort_data/HT_Pros_coder.pickle', 'rb') as handle:\n",
    "        cc: ColumnCodes = pickle.load(handle)\n",
    "\n",
    "        \n",
    "        \n",
    "OUTPUT_FILE_NAME = 'synthetic_csv.csv'\n",
    "NUM_OF_ROWS = 1000\n",
    "\n",
    "token_per_rows = sum(cc.sizes) + 1\n",
    "#token_per_rows = 545\n",
    "batch_size = 1\n",
    "port_num = 5555\n",
    "num_of_rows = 1\n",
    "headers = {\"Content-Type\": \"application/json\"}\n",
    "\n",
    "\n",
    "def request_data(data):\n",
    "    \n",
    "    resp = requests.put('http://localhost:{}/generate'.format(port_num),\n",
    "                        data=json.dumps(data), headers=headers)\n",
    "    \n",
    "    sentences = resp.json()['sentences']\n",
    "    return sentences\n",
    "\n",
    "\n",
    "# generate the initial transactions \n",
    "data = {\n",
    "    \"sentences\": [\"\"] * batch_size,\n",
    "    \"tokens_to_generate\": num_of_rows * token_per_rows,\n",
    "    \"temperature\": 1.0,\n",
    "    \"add_BOS\": True\n",
    "}\n",
    "df_out = pd.DataFrame(columns=columns.tolist())\n",
    "for _ in range(NUM_OF_ROWS):\n",
    "    sentences = request_data(data)\n",
    "    for i in range(batch_size):\n",
    "        if sentences[i][:13] == '<|endoftext|>':\n",
    "                sentences[i] = sentences[i][13:]\n",
    "        s = sentences[i][:-2].split(',')\n",
    "        # print(s)\n",
    "        df_out.loc[len(df_out.index)] = s\n",
    "df_out.to_csv(OUTPUT_FILE_NAME)\n",
    "df_out.head()"
   ]
  },
  {
   "cell_type": "code",
   "execution_count": null,
   "id": "cc99533d-7d8e-47be-9b8f-2412c4aeb4c1",
   "metadata": {},
   "outputs": [],
   "source": []
  },
  {
   "cell_type": "code",
   "execution_count": 4,
   "id": "b7839f2c-7649-40b5-9936-f8d41f64257f",
   "metadata": {},
   "outputs": [],
   "source": [
    "df_out = pd.read_csv('synthetic_csv.csv')"
   ]
  },
  {
   "cell_type": "code",
   "execution_count": null,
   "id": "6ec7e937-42f2-4ba5-b6d3-be2bb95e86fc",
   "metadata": {},
   "outputs": [],
   "source": [
    "df_out['admittime']=df_out['admityear']+'_'+df_out['admitmonth']+'_'+df_out['admitday']\n",
    "\n",
    "\n",
    "df_out['dischtime']=df_out['dischyear']+'_'+df_out['dischmonth']+'_'+df_out['dischday']\n",
    "\n",
    "\n",
    "df_out['charttime']=df_out['chartyear']+'_'+df_out['chartmonth'].str+'_'+df_out['chartday']\n"
   ]
  },
  {
   "cell_type": "code",
   "execution_count": null,
   "id": "173bb26d-69ae-4589-84e7-c13ae56e44c7",
   "metadata": {},
   "outputs": [],
   "source": [
    "columns_titles = [\"B\",\"A\"]"
   ]
  },
  {
   "cell_type": "code",
   "execution_count": 1,
   "id": "37ca6017-bc37-454b-a0ba-bff844b789c8",
   "metadata": {},
   "outputs": [
    {
     "ename": "NameError",
     "evalue": "name 'pd' is not defined",
     "output_type": "error",
     "traceback": [
      "\u001b[0;31m---------------------------------------------------------------------------\u001b[0m",
      "\u001b[0;31mNameError\u001b[0m                                 Traceback (most recent call last)",
      "Input \u001b[0;32mIn [1]\u001b[0m, in \u001b[0;36m<cell line: 1>\u001b[0;34m()\u001b[0m\n\u001b[0;32m----> 1\u001b[0m total \u001b[38;5;241m=\u001b[39m \u001b[43mpd\u001b[49m\u001b[38;5;241m.\u001b[39mconcat([df, df_out])\n\u001b[1;32m      2\u001b[0m copies \u001b[38;5;241m=\u001b[39m \u001b[38;5;28mlen\u001b[39m(total) \u001b[38;5;241m-\u001b[39m \u001b[38;5;28mlen\u001b[39m(total\u001b[38;5;241m.\u001b[39mdrop_duplicates()) \u001b[38;5;241m-\u001b[39m (\u001b[38;5;28mlen\u001b[39m(df) \u001b[38;5;241m-\u001b[39m \u001b[38;5;28mlen\u001b[39m(df\u001b[38;5;241m.\u001b[39mdrop_duplicates())) \u001b[38;5;241m-\u001b[39m (\u001b[38;5;28mlen\u001b[39m(df_out) \u001b[38;5;241m-\u001b[39m \u001b[38;5;28mlen\u001b[39m(df_out\u001b[38;5;241m.\u001b[39mdrop_duplicates()))\n\u001b[1;32m      3\u001b[0m \u001b[38;5;28mprint\u001b[39m(copies)\n",
      "\u001b[0;31mNameError\u001b[0m: name 'pd' is not defined"
     ]
    }
   ],
   "source": [
    "total = pd.concat([df, df_out])\n",
    "copies = len(total) - len(total.drop_duplicates()) - (len(df) - len(df.drop_duplicates())) - (len(df_out) - len(df_out.drop_duplicates()))\n",
    "print(copies)\n"
   ]
  },
  {
   "cell_type": "code",
   "execution_count": 59,
   "id": "3323de8f-a052-40d7-952a-51ec5b65eb18",
   "metadata": {},
   "outputs": [
    {
     "data": {
      "text/plain": [
       "0.0"
      ]
     },
     "execution_count": 59,
     "metadata": {},
     "output_type": "execute_result"
    }
   ],
   "source": [
    "100*(len(df_out) - len(df_out.drop_duplicates()))/len(df_out)"
   ]
  },
  {
   "cell_type": "code",
   "execution_count": null,
   "id": "ad71b408-6ef1-4d8b-9fd5-890216b075c8",
   "metadata": {},
   "outputs": [],
   "source": []
  }
 ],
 "metadata": {
  "accelerator": "GPU",
  "colab": {
   "collapsed_sections": [],
   "machine_shape": "hm",
   "name": "Copy of Megatron_Synthetic_Tabular_Data_Generation.ipynb",
   "provenance": []
  },
  "environment": {
   "kernel": "nemo",
   "name": "pytorch-gpu.1-11.m94",
   "type": "gcloud",
   "uri": "gcr.io/deeplearning-platform-release/pytorch-gpu.1-11:m94"
  },
  "gpuClass": "standard",
  "kernelspec": {
   "display_name": "nemo",
   "language": "python",
   "name": "nemo"
  },
  "language_info": {
   "codemirror_mode": {
    "name": "ipython",
    "version": 3
   },
   "file_extension": ".py",
   "mimetype": "text/x-python",
   "name": "python",
   "nbconvert_exporter": "python",
   "pygments_lexer": "ipython3",
   "version": "3.9.0"
  }
 },
 "nbformat": 4,
 "nbformat_minor": 5
}
